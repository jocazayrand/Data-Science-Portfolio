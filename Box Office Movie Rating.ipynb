{
 "cells": [
  {
   "cell_type": "markdown",
   "metadata": {},
   "source": [
    "## Box Office Movie: Hit or Flop?"
   ]
  },
  {
   "cell_type": "markdown",
   "metadata": {},
   "source": [
    "__Author:__ [Jocaz Ayrand G. Entico](https://www.linkedin.com/in/jocaz-entico-4675b9144/)"
   ]
  },
  {
   "cell_type": "markdown",
   "metadata": {},
   "source": [
    "### Executive Summary\n",
    "In this notebook, we will be determining how box office movies become either a **Hit** or **Flop**. We will be using the **Ratings** and **Gross** of different movies as indicators to whether they are considered a successful movie or not. We will be implementing different machine learning regression algorithm since the variable that we are trying to predict, namely **Ratings** and **Gross**, are both continuous variable. <br>\n",
    "#### Predicting the Rating of the Movie\n",
    "After running the movies data set through different machine learning regression algorithm, the optimal regression model to be used is **Lasso Regression $\\alpha=0.001$** with test accuracy of **37.24%**. The model uses 10 features namely *Budget, Horror Movies, Dislikes, Mind-Boggling Movies, Dark-Themed Movies, Likes, Sentiment, Views, Thriller Movies,* and *Comments* arranged in a decreasing manner of importance. We can say that genre matters in predicting the ratings of the movie.\n",
    "#### Predicting the Gross Income of the Movie\n",
    "After running the movies data set through different machine learning regression algorithm, the optimal regression model to be used is **Ridge Regression $\\alpha=20$** with test accuracy of **79.61%**. The model uses 5 features namely *Budget, Screens, Sequel, Ratings,* and *Action Movies* arranged in a decreasing manner of importance. Generally, movies with higher budget have the higher chance of gaining higher gross income. <br>\n",
    "\n",
    "In both cases, the top predictor variable is **Budget**. This clearly says that the alloted budget in the movie will be sufficient information to determine whether it will be a **Hit** or **Flop** movie."
   ]
  },
  {
   "cell_type": "markdown",
   "metadata": {},
   "source": [
    "### Let's Start\n",
    "Let's begin by providing all the libraries to be used in this notebook."
   ]
  },
  {
   "cell_type": "code",
   "execution_count": 80,
   "metadata": {
    "ExecuteTime": {
     "end_time": "2018-07-14T10:25:49.723218Z",
     "start_time": "2018-07-14T10:25:49.714901Z"
    }
   },
   "outputs": [],
   "source": [
    "import pandas as pd\n",
    "from sklearn.linear_model import Ridge\n",
    "from sklearn.linear_model import Lasso\n",
    "from sklearn.model_selection import train_test_split\n",
    "from sklearn.neighbors import KNeighborsRegressor\n",
    "import numpy as np\n",
    "from sklearn.preprocessing import MinMaxScaler\n",
    "from sklearn.preprocessing import StandardScaler\n",
    "import matplotlib.pyplot as plt"
   ]
  },
  {
   "cell_type": "markdown",
   "metadata": {},
   "source": [
    "### Data Description\n",
    "The data was collected from movies databases on web as well as social media like Youtube and Twitter. The data set is composed of 12 features categorized as conventional and social media features."
   ]
  },
  {
   "cell_type": "code",
   "execution_count": 135,
   "metadata": {
    "ExecuteTime": {
     "end_time": "2018-07-14T11:00:58.680517Z",
     "start_time": "2018-07-14T11:00:58.612054Z"
    }
   },
   "outputs": [],
   "source": [
    "df = pd.read_excel('2014 and 2015 CSM dataset.xlsx')\n",
    "dummy = df"
   ]
  },
  {
   "cell_type": "code",
   "execution_count": 136,
   "metadata": {
    "ExecuteTime": {
     "end_time": "2018-07-14T11:01:00.387151Z",
     "start_time": "2018-07-14T11:01:00.360695Z"
    },
    "scrolled": true
   },
   "outputs": [
    {
     "data": {
      "text/html": [
       "<div>\n",
       "<style scoped>\n",
       "    .dataframe tbody tr th:only-of-type {\n",
       "        vertical-align: middle;\n",
       "    }\n",
       "\n",
       "    .dataframe tbody tr th {\n",
       "        vertical-align: top;\n",
       "    }\n",
       "\n",
       "    .dataframe thead th {\n",
       "        text-align: right;\n",
       "    }\n",
       "</style>\n",
       "<table border=\"1\" class=\"dataframe\">\n",
       "  <thead>\n",
       "    <tr style=\"text-align: right;\">\n",
       "      <th></th>\n",
       "      <th>Movie</th>\n",
       "      <th>Year</th>\n",
       "      <th>Ratings</th>\n",
       "      <th>Genre</th>\n",
       "      <th>Gross</th>\n",
       "      <th>Budget</th>\n",
       "      <th>Screens</th>\n",
       "      <th>Sequel</th>\n",
       "      <th>Sentiment</th>\n",
       "      <th>Views</th>\n",
       "      <th>Likes</th>\n",
       "      <th>Dislikes</th>\n",
       "      <th>Comments</th>\n",
       "      <th>Aggregate Followers</th>\n",
       "    </tr>\n",
       "  </thead>\n",
       "  <tbody>\n",
       "    <tr>\n",
       "      <th>0</th>\n",
       "      <td>13 Sins</td>\n",
       "      <td>2014</td>\n",
       "      <td>6.3</td>\n",
       "      <td>8</td>\n",
       "      <td>9130</td>\n",
       "      <td>4000000.0</td>\n",
       "      <td>45.0</td>\n",
       "      <td>1</td>\n",
       "      <td>0</td>\n",
       "      <td>3280543</td>\n",
       "      <td>4632</td>\n",
       "      <td>425</td>\n",
       "      <td>636</td>\n",
       "      <td>1120000.0</td>\n",
       "    </tr>\n",
       "    <tr>\n",
       "      <th>1</th>\n",
       "      <td>22 Jump Street</td>\n",
       "      <td>2014</td>\n",
       "      <td>7.1</td>\n",
       "      <td>1</td>\n",
       "      <td>192000000</td>\n",
       "      <td>50000000.0</td>\n",
       "      <td>3306.0</td>\n",
       "      <td>2</td>\n",
       "      <td>2</td>\n",
       "      <td>583289</td>\n",
       "      <td>3465</td>\n",
       "      <td>61</td>\n",
       "      <td>186</td>\n",
       "      <td>12350000.0</td>\n",
       "    </tr>\n",
       "    <tr>\n",
       "      <th>2</th>\n",
       "      <td>3 Days to Kill</td>\n",
       "      <td>2014</td>\n",
       "      <td>6.2</td>\n",
       "      <td>1</td>\n",
       "      <td>30700000</td>\n",
       "      <td>28000000.0</td>\n",
       "      <td>2872.0</td>\n",
       "      <td>1</td>\n",
       "      <td>0</td>\n",
       "      <td>304861</td>\n",
       "      <td>328</td>\n",
       "      <td>34</td>\n",
       "      <td>47</td>\n",
       "      <td>483000.0</td>\n",
       "    </tr>\n",
       "    <tr>\n",
       "      <th>3</th>\n",
       "      <td>300: Rise of an Empire</td>\n",
       "      <td>2014</td>\n",
       "      <td>6.3</td>\n",
       "      <td>1</td>\n",
       "      <td>106000000</td>\n",
       "      <td>110000000.0</td>\n",
       "      <td>3470.0</td>\n",
       "      <td>2</td>\n",
       "      <td>0</td>\n",
       "      <td>452917</td>\n",
       "      <td>2429</td>\n",
       "      <td>132</td>\n",
       "      <td>590</td>\n",
       "      <td>568000.0</td>\n",
       "    </tr>\n",
       "    <tr>\n",
       "      <th>4</th>\n",
       "      <td>A Haunted House 2</td>\n",
       "      <td>2014</td>\n",
       "      <td>4.7</td>\n",
       "      <td>8</td>\n",
       "      <td>17300000</td>\n",
       "      <td>3500000.0</td>\n",
       "      <td>2310.0</td>\n",
       "      <td>2</td>\n",
       "      <td>0</td>\n",
       "      <td>3145573</td>\n",
       "      <td>12163</td>\n",
       "      <td>610</td>\n",
       "      <td>1082</td>\n",
       "      <td>1923800.0</td>\n",
       "    </tr>\n",
       "  </tbody>\n",
       "</table>\n",
       "</div>"
      ],
      "text/plain": [
       "                    Movie  Year  Ratings  Genre      Gross       Budget  \\\n",
       "0                 13 Sins  2014      6.3      8       9130    4000000.0   \n",
       "1          22 Jump Street  2014      7.1      1  192000000   50000000.0   \n",
       "2          3 Days to Kill  2014      6.2      1   30700000   28000000.0   \n",
       "3  300: Rise of an Empire  2014      6.3      1  106000000  110000000.0   \n",
       "4       A Haunted House 2  2014      4.7      8   17300000    3500000.0   \n",
       "\n",
       "   Screens  Sequel  Sentiment    Views  Likes  Dislikes  Comments  \\\n",
       "0     45.0       1          0  3280543   4632       425       636   \n",
       "1   3306.0       2          2   583289   3465        61       186   \n",
       "2   2872.0       1          0   304861    328        34        47   \n",
       "3   3470.0       2          0   452917   2429       132       590   \n",
       "4   2310.0       2          0  3145573  12163       610      1082   \n",
       "\n",
       "   Aggregate Followers  \n",
       "0            1120000.0  \n",
       "1           12350000.0  \n",
       "2             483000.0  \n",
       "3             568000.0  \n",
       "4            1923800.0  "
      ]
     },
     "execution_count": 136,
     "metadata": {},
     "output_type": "execute_result"
    }
   ],
   "source": [
    "df.head()"
   ]
  },
  {
   "cell_type": "markdown",
   "metadata": {},
   "source": [
    "There are null entries in the data set so in order to solve this issue, we will be filling these data entries by 0."
   ]
  },
  {
   "cell_type": "code",
   "execution_count": 33,
   "metadata": {
    "ExecuteTime": {
     "end_time": "2018-07-14T09:59:28.860476Z",
     "start_time": "2018-07-14T09:59:28.852717Z"
    }
   },
   "outputs": [
    {
     "data": {
      "text/plain": [
       "Movie                   0\n",
       "Year                    0\n",
       "Ratings                 0\n",
       "Genre                   0\n",
       "Gross                   0\n",
       "Budget                  1\n",
       "Screens                10\n",
       "Sequel                  0\n",
       "Sentiment               0\n",
       "Views                   0\n",
       "Likes                   0\n",
       "Dislikes                0\n",
       "Comments                0\n",
       "Aggregate Followers    35\n",
       "dtype: int64"
      ]
     },
     "execution_count": 33,
     "metadata": {},
     "output_type": "execute_result"
    }
   ],
   "source": [
    "df.isnull().sum()"
   ]
  },
  {
   "cell_type": "code",
   "execution_count": 137,
   "metadata": {
    "ExecuteTime": {
     "end_time": "2018-07-14T11:01:04.639075Z",
     "start_time": "2018-07-14T11:01:04.632631Z"
    }
   },
   "outputs": [],
   "source": [
    "df = df.fillna(0)"
   ]
  },
  {
   "cell_type": "markdown",
   "metadata": {},
   "source": [
    "We can also observe that the entries for the genre of the movie is in numerical value. With this manner, there will be a huge difference between movie with genre of 1 compared to movie with genre of 15 which should not be accounted since there is no specific order in movie genres. Therefore, we will be encoding the genre of the movies in a one-hot encoding manner."
   ]
  },
  {
   "cell_type": "code",
   "execution_count": 138,
   "metadata": {
    "ExecuteTime": {
     "end_time": "2018-07-14T11:01:07.932752Z",
     "start_time": "2018-07-14T11:01:07.891460Z"
    }
   },
   "outputs": [
    {
     "data": {
      "text/html": [
       "<div>\n",
       "<style scoped>\n",
       "    .dataframe tbody tr th:only-of-type {\n",
       "        vertical-align: middle;\n",
       "    }\n",
       "\n",
       "    .dataframe tbody tr th {\n",
       "        vertical-align: top;\n",
       "    }\n",
       "\n",
       "    .dataframe thead th {\n",
       "        text-align: right;\n",
       "    }\n",
       "</style>\n",
       "<table border=\"1\" class=\"dataframe\">\n",
       "  <thead>\n",
       "    <tr style=\"text-align: right;\">\n",
       "      <th></th>\n",
       "      <th>Movie</th>\n",
       "      <th>Year</th>\n",
       "      <th>Ratings</th>\n",
       "      <th>Genre</th>\n",
       "      <th>Gross</th>\n",
       "      <th>Budget</th>\n",
       "      <th>Screens</th>\n",
       "      <th>Sequel</th>\n",
       "      <th>Sentiment</th>\n",
       "      <th>Views</th>\n",
       "      <th>Likes</th>\n",
       "      <th>Dislikes</th>\n",
       "      <th>Comments</th>\n",
       "      <th>Aggregate Followers</th>\n",
       "    </tr>\n",
       "  </thead>\n",
       "  <tbody>\n",
       "    <tr>\n",
       "      <th>0</th>\n",
       "      <td>13 Sins</td>\n",
       "      <td>2014</td>\n",
       "      <td>6.3</td>\n",
       "      <td>Genre 8</td>\n",
       "      <td>9130</td>\n",
       "      <td>4000000.0</td>\n",
       "      <td>45.0</td>\n",
       "      <td>1</td>\n",
       "      <td>0</td>\n",
       "      <td>3280543</td>\n",
       "      <td>4632</td>\n",
       "      <td>425</td>\n",
       "      <td>636</td>\n",
       "      <td>1120000.0</td>\n",
       "    </tr>\n",
       "    <tr>\n",
       "      <th>1</th>\n",
       "      <td>22 Jump Street</td>\n",
       "      <td>2014</td>\n",
       "      <td>7.1</td>\n",
       "      <td>Genre 1</td>\n",
       "      <td>192000000</td>\n",
       "      <td>50000000.0</td>\n",
       "      <td>3306.0</td>\n",
       "      <td>2</td>\n",
       "      <td>2</td>\n",
       "      <td>583289</td>\n",
       "      <td>3465</td>\n",
       "      <td>61</td>\n",
       "      <td>186</td>\n",
       "      <td>12350000.0</td>\n",
       "    </tr>\n",
       "    <tr>\n",
       "      <th>2</th>\n",
       "      <td>3 Days to Kill</td>\n",
       "      <td>2014</td>\n",
       "      <td>6.2</td>\n",
       "      <td>Genre 1</td>\n",
       "      <td>30700000</td>\n",
       "      <td>28000000.0</td>\n",
       "      <td>2872.0</td>\n",
       "      <td>1</td>\n",
       "      <td>0</td>\n",
       "      <td>304861</td>\n",
       "      <td>328</td>\n",
       "      <td>34</td>\n",
       "      <td>47</td>\n",
       "      <td>483000.0</td>\n",
       "    </tr>\n",
       "    <tr>\n",
       "      <th>3</th>\n",
       "      <td>300: Rise of an Empire</td>\n",
       "      <td>2014</td>\n",
       "      <td>6.3</td>\n",
       "      <td>Genre 1</td>\n",
       "      <td>106000000</td>\n",
       "      <td>110000000.0</td>\n",
       "      <td>3470.0</td>\n",
       "      <td>2</td>\n",
       "      <td>0</td>\n",
       "      <td>452917</td>\n",
       "      <td>2429</td>\n",
       "      <td>132</td>\n",
       "      <td>590</td>\n",
       "      <td>568000.0</td>\n",
       "    </tr>\n",
       "    <tr>\n",
       "      <th>4</th>\n",
       "      <td>A Haunted House 2</td>\n",
       "      <td>2014</td>\n",
       "      <td>4.7</td>\n",
       "      <td>Genre 8</td>\n",
       "      <td>17300000</td>\n",
       "      <td>3500000.0</td>\n",
       "      <td>2310.0</td>\n",
       "      <td>2</td>\n",
       "      <td>0</td>\n",
       "      <td>3145573</td>\n",
       "      <td>12163</td>\n",
       "      <td>610</td>\n",
       "      <td>1082</td>\n",
       "      <td>1923800.0</td>\n",
       "    </tr>\n",
       "  </tbody>\n",
       "</table>\n",
       "</div>"
      ],
      "text/plain": [
       "                    Movie  Year  Ratings    Genre      Gross       Budget  \\\n",
       "0                 13 Sins  2014      6.3  Genre 8       9130    4000000.0   \n",
       "1          22 Jump Street  2014      7.1  Genre 1  192000000   50000000.0   \n",
       "2          3 Days to Kill  2014      6.2  Genre 1   30700000   28000000.0   \n",
       "3  300: Rise of an Empire  2014      6.3  Genre 1  106000000  110000000.0   \n",
       "4       A Haunted House 2  2014      4.7  Genre 8   17300000    3500000.0   \n",
       "\n",
       "   Screens  Sequel  Sentiment    Views  Likes  Dislikes  Comments  \\\n",
       "0     45.0       1          0  3280543   4632       425       636   \n",
       "1   3306.0       2          2   583289   3465        61       186   \n",
       "2   2872.0       1          0   304861    328        34        47   \n",
       "3   3470.0       2          0   452917   2429       132       590   \n",
       "4   2310.0       2          0  3145573  12163       610      1082   \n",
       "\n",
       "   Aggregate Followers  \n",
       "0            1120000.0  \n",
       "1           12350000.0  \n",
       "2             483000.0  \n",
       "3             568000.0  \n",
       "4            1923800.0  "
      ]
     },
     "execution_count": 138,
     "metadata": {},
     "output_type": "execute_result"
    }
   ],
   "source": [
    "size_mapping = {\n",
    "1: 'Genre 1',\n",
    "2: 'Genre 2',\n",
    "3: 'Genre 3',\n",
    "4: 'Genre 4',\n",
    "6: 'Genre 6',\n",
    "7: 'Genre 7',\n",
    "8: 'Genre 8',\n",
    "9: 'Genre 9',\n",
    "10: 'Genre 10',\n",
    "12: 'Genre 12',\n",
    "15: 'Genre 15'}\n",
    "df['Genre'] = df['Genre'].map(size_mapping)\n",
    "df.head()"
   ]
  },
  {
   "cell_type": "code",
   "execution_count": 141,
   "metadata": {
    "ExecuteTime": {
     "end_time": "2018-07-14T11:01:47.001503Z",
     "start_time": "2018-07-14T11:01:46.994521Z"
    }
   },
   "outputs": [],
   "source": [
    "df = pd.concat([df, pd.get_dummies(df['Genre'])], axis=1)"
   ]
  },
  {
   "cell_type": "code",
   "execution_count": 157,
   "metadata": {
    "ExecuteTime": {
     "end_time": "2018-07-14T11:11:43.307061Z",
     "start_time": "2018-07-14T11:11:43.301565Z"
    }
   },
   "outputs": [],
   "source": [
    "final = df.drop('Genre', axis=1)"
   ]
  },
  {
   "cell_type": "code",
   "execution_count": 158,
   "metadata": {
    "ExecuteTime": {
     "end_time": "2018-07-14T11:11:50.721666Z",
     "start_time": "2018-07-14T11:11:50.680952Z"
    }
   },
   "outputs": [
    {
     "data": {
      "text/html": [
       "<div>\n",
       "<style scoped>\n",
       "    .dataframe tbody tr th:only-of-type {\n",
       "        vertical-align: middle;\n",
       "    }\n",
       "\n",
       "    .dataframe tbody tr th {\n",
       "        vertical-align: top;\n",
       "    }\n",
       "\n",
       "    .dataframe thead th {\n",
       "        text-align: right;\n",
       "    }\n",
       "</style>\n",
       "<table border=\"1\" class=\"dataframe\">\n",
       "  <thead>\n",
       "    <tr style=\"text-align: right;\">\n",
       "      <th></th>\n",
       "      <th>Movie</th>\n",
       "      <th>Year</th>\n",
       "      <th>Ratings</th>\n",
       "      <th>Gross</th>\n",
       "      <th>Budget</th>\n",
       "      <th>Screens</th>\n",
       "      <th>Sequel</th>\n",
       "      <th>Sentiment</th>\n",
       "      <th>Views</th>\n",
       "      <th>Likes</th>\n",
       "      <th>...</th>\n",
       "      <th>Genre 10</th>\n",
       "      <th>Genre 12</th>\n",
       "      <th>Genre 15</th>\n",
       "      <th>Genre 2</th>\n",
       "      <th>Genre 3</th>\n",
       "      <th>Genre 4</th>\n",
       "      <th>Genre 6</th>\n",
       "      <th>Genre 7</th>\n",
       "      <th>Genre 8</th>\n",
       "      <th>Genre 9</th>\n",
       "    </tr>\n",
       "  </thead>\n",
       "  <tbody>\n",
       "    <tr>\n",
       "      <th>0</th>\n",
       "      <td>13 Sins</td>\n",
       "      <td>2014</td>\n",
       "      <td>6.3</td>\n",
       "      <td>9130</td>\n",
       "      <td>4000000.0</td>\n",
       "      <td>45.0</td>\n",
       "      <td>1</td>\n",
       "      <td>0</td>\n",
       "      <td>3280543</td>\n",
       "      <td>4632</td>\n",
       "      <td>...</td>\n",
       "      <td>0</td>\n",
       "      <td>0</td>\n",
       "      <td>0</td>\n",
       "      <td>0</td>\n",
       "      <td>0</td>\n",
       "      <td>0</td>\n",
       "      <td>0</td>\n",
       "      <td>0</td>\n",
       "      <td>1</td>\n",
       "      <td>0</td>\n",
       "    </tr>\n",
       "    <tr>\n",
       "      <th>1</th>\n",
       "      <td>22 Jump Street</td>\n",
       "      <td>2014</td>\n",
       "      <td>7.1</td>\n",
       "      <td>192000000</td>\n",
       "      <td>50000000.0</td>\n",
       "      <td>3306.0</td>\n",
       "      <td>2</td>\n",
       "      <td>2</td>\n",
       "      <td>583289</td>\n",
       "      <td>3465</td>\n",
       "      <td>...</td>\n",
       "      <td>0</td>\n",
       "      <td>0</td>\n",
       "      <td>0</td>\n",
       "      <td>0</td>\n",
       "      <td>0</td>\n",
       "      <td>0</td>\n",
       "      <td>0</td>\n",
       "      <td>0</td>\n",
       "      <td>0</td>\n",
       "      <td>0</td>\n",
       "    </tr>\n",
       "    <tr>\n",
       "      <th>2</th>\n",
       "      <td>3 Days to Kill</td>\n",
       "      <td>2014</td>\n",
       "      <td>6.2</td>\n",
       "      <td>30700000</td>\n",
       "      <td>28000000.0</td>\n",
       "      <td>2872.0</td>\n",
       "      <td>1</td>\n",
       "      <td>0</td>\n",
       "      <td>304861</td>\n",
       "      <td>328</td>\n",
       "      <td>...</td>\n",
       "      <td>0</td>\n",
       "      <td>0</td>\n",
       "      <td>0</td>\n",
       "      <td>0</td>\n",
       "      <td>0</td>\n",
       "      <td>0</td>\n",
       "      <td>0</td>\n",
       "      <td>0</td>\n",
       "      <td>0</td>\n",
       "      <td>0</td>\n",
       "    </tr>\n",
       "    <tr>\n",
       "      <th>3</th>\n",
       "      <td>300: Rise of an Empire</td>\n",
       "      <td>2014</td>\n",
       "      <td>6.3</td>\n",
       "      <td>106000000</td>\n",
       "      <td>110000000.0</td>\n",
       "      <td>3470.0</td>\n",
       "      <td>2</td>\n",
       "      <td>0</td>\n",
       "      <td>452917</td>\n",
       "      <td>2429</td>\n",
       "      <td>...</td>\n",
       "      <td>0</td>\n",
       "      <td>0</td>\n",
       "      <td>0</td>\n",
       "      <td>0</td>\n",
       "      <td>0</td>\n",
       "      <td>0</td>\n",
       "      <td>0</td>\n",
       "      <td>0</td>\n",
       "      <td>0</td>\n",
       "      <td>0</td>\n",
       "    </tr>\n",
       "    <tr>\n",
       "      <th>4</th>\n",
       "      <td>A Haunted House 2</td>\n",
       "      <td>2014</td>\n",
       "      <td>4.7</td>\n",
       "      <td>17300000</td>\n",
       "      <td>3500000.0</td>\n",
       "      <td>2310.0</td>\n",
       "      <td>2</td>\n",
       "      <td>0</td>\n",
       "      <td>3145573</td>\n",
       "      <td>12163</td>\n",
       "      <td>...</td>\n",
       "      <td>0</td>\n",
       "      <td>0</td>\n",
       "      <td>0</td>\n",
       "      <td>0</td>\n",
       "      <td>0</td>\n",
       "      <td>0</td>\n",
       "      <td>0</td>\n",
       "      <td>0</td>\n",
       "      <td>1</td>\n",
       "      <td>0</td>\n",
       "    </tr>\n",
       "  </tbody>\n",
       "</table>\n",
       "<p>5 rows × 24 columns</p>\n",
       "</div>"
      ],
      "text/plain": [
       "                    Movie  Year  Ratings      Gross       Budget  Screens  \\\n",
       "0                 13 Sins  2014      6.3       9130    4000000.0     45.0   \n",
       "1          22 Jump Street  2014      7.1  192000000   50000000.0   3306.0   \n",
       "2          3 Days to Kill  2014      6.2   30700000   28000000.0   2872.0   \n",
       "3  300: Rise of an Empire  2014      6.3  106000000  110000000.0   3470.0   \n",
       "4       A Haunted House 2  2014      4.7   17300000    3500000.0   2310.0   \n",
       "\n",
       "   Sequel  Sentiment    Views  Likes   ...     Genre 10  Genre 12  Genre 15  \\\n",
       "0       1          0  3280543   4632   ...            0         0         0   \n",
       "1       2          2   583289   3465   ...            0         0         0   \n",
       "2       1          0   304861    328   ...            0         0         0   \n",
       "3       2          0   452917   2429   ...            0         0         0   \n",
       "4       2          0  3145573  12163   ...            0         0         0   \n",
       "\n",
       "   Genre 2  Genre 3  Genre 4  Genre 6  Genre 7  Genre 8  Genre 9  \n",
       "0        0        0        0        0        0        1        0  \n",
       "1        0        0        0        0        0        0        0  \n",
       "2        0        0        0        0        0        0        0  \n",
       "3        0        0        0        0        0        0        0  \n",
       "4        0        0        0        0        0        1        0  \n",
       "\n",
       "[5 rows x 24 columns]"
      ]
     },
     "execution_count": 158,
     "metadata": {},
     "output_type": "execute_result"
    }
   ],
   "source": [
    "final.head()"
   ]
  },
  {
   "cell_type": "code",
   "execution_count": 181,
   "metadata": {
    "ExecuteTime": {
     "end_time": "2018-07-14T11:17:11.050488Z",
     "start_time": "2018-07-14T11:17:11.041043Z"
    }
   },
   "outputs": [],
   "source": [
    "y_gross = final['Gross']\n",
    "y_rating = final['Ratings']\n",
    "X_gross = final.drop(['Gross'], axis=1).iloc[:,2:]\n",
    "X_rating = final.drop(['Gross', 'Ratings'], axis=1).iloc[:,2:]"
   ]
  },
  {
   "cell_type": "code",
   "execution_count": 314,
   "metadata": {
    "ExecuteTime": {
     "end_time": "2018-07-14T14:09:42.262264Z",
     "start_time": "2018-07-14T14:09:42.255084Z"
    }
   },
   "outputs": [],
   "source": [
    "df_rating = final.drop(['Gross'], axis=1)\n",
    "df_gross = final.drop(['Ratings'], axis=1)"
   ]
  },
  {
   "cell_type": "markdown",
   "metadata": {},
   "source": [
    "### Data Exploration"
   ]
  },
  {
   "cell_type": "markdown",
   "metadata": {},
   "source": [
    "We will be performing Pearson Correlation to determine the relationship of the features to the target variable."
   ]
  },
  {
   "cell_type": "code",
   "execution_count": 184,
   "metadata": {
    "ExecuteTime": {
     "end_time": "2018-07-14T11:18:23.290443Z",
     "start_time": "2018-07-14T11:18:23.277028Z"
    }
   },
   "outputs": [
    {
     "data": {
      "text/plain": [
       "Ratings                1.000000\n",
       "Genre 15              -0.315115\n",
       "Budget                 0.285301\n",
       "Dislikes              -0.187422\n",
       "Genre 9                0.157259\n",
       "Genre 7               -0.155490\n",
       "Genre 12               0.145835\n",
       "Sentiment              0.143182\n",
       "Sequel                 0.105701\n",
       "Screens                0.099987\n",
       "Genre 8               -0.097910\n",
       "Genre 2                0.081088\n",
       "Likes                  0.073824\n",
       "Genre 10               0.057363\n",
       "Aggregate Followers    0.051321\n",
       "Genre 6               -0.031960\n",
       "Genre 1                0.031211\n",
       "Genre 3                0.022945\n",
       "Comments               0.015679\n",
       "Views                  0.011710\n",
       "Genre 4               -0.002777\n",
       "Name: Ratings, dtype: float64"
      ]
     },
     "execution_count": 184,
     "metadata": {},
     "output_type": "execute_result"
    }
   ],
   "source": [
    "S = df_rating.iloc[:,2:].corr()['Ratings']\n",
    "order = S.map(lambda x : x).abs().sort_values(ascending = False)\n",
    "S[order.index][abs(S[order.index]) > 0]"
   ]
  },
  {
   "cell_type": "code",
   "execution_count": 317,
   "metadata": {
    "ExecuteTime": {
     "end_time": "2018-07-14T14:10:38.130016Z",
     "start_time": "2018-07-14T14:10:38.115824Z"
    },
    "scrolled": true
   },
   "outputs": [
    {
     "data": {
      "text/plain": [
       "Gross                  1.000000\n",
       "Budget                 0.720595\n",
       "Screens                0.596833\n",
       "Sequel                 0.423711\n",
       "Ratings                0.342204\n",
       "Genre 1                0.327507\n",
       "Aggregate Followers    0.322256\n",
       "Genre 3               -0.205678\n",
       "Genre 12               0.183597\n",
       "Views                  0.176363\n",
       "Dislikes               0.161536\n",
       "Genre 8               -0.152765\n",
       "Genre 2                0.147702\n",
       "Comments               0.125960\n",
       "Genre 10              -0.117084\n",
       "Likes                  0.110432\n",
       "Genre 15              -0.092823\n",
       "Genre 7               -0.071702\n",
       "Genre 9               -0.063064\n",
       "Genre 6               -0.055265\n",
       "Genre 4               -0.049694\n",
       "Sentiment             -0.017100\n",
       "Name: Gross, dtype: float64"
      ]
     },
     "execution_count": 317,
     "metadata": {},
     "output_type": "execute_result"
    }
   ],
   "source": [
    "S = final.iloc[:,2:].corr()['Gross']\n",
    "order = S.map(lambda x : x).abs().sort_values(ascending = False)\n",
    "S[order.index][abs(S[order.index]) > 0]"
   ]
  },
  {
   "cell_type": "markdown",
   "metadata": {},
   "source": [
    "Based on the results, features with result greater than 0 have direct relationship to the target variable namely **Ratings** and **Gross** while features with result less than 0 have inverse relationship to the target variable."
   ]
  },
  {
   "cell_type": "markdown",
   "metadata": {},
   "source": [
    "### Methods Function\n",
    "We will be implementing three Machine Learning Regression Algorithm namely K-Nearest Neighbor Regression, Ridge Regression, and Lasso Regression. The data set will be split into two: training data and test data for the algorithm to learn and test the accuracy of the each model. We will be repeating this process by 50 trials since the splitting of the data set is determined randomly in order to remove the bias occured in splitting the data. Additionally, we will be plotting the weights of the features in predicting our target variable namely **Ratings** and **Gross**."
   ]
  },
  {
   "cell_type": "code",
   "execution_count": 272,
   "metadata": {
    "ExecuteTime": {
     "end_time": "2018-07-14T13:07:37.444789Z",
     "start_time": "2018-07-14T13:07:37.027198Z"
    }
   },
   "outputs": [],
   "source": [
    "Number_trials=50\n",
    "def train_knn(X, y):\n",
    "    score_train = []\n",
    "    score_test = []\n",
    "\n",
    "    for seed in range(Number_trials):\n",
    "        X_train, X_test, y_train, y_test = train_test_split(X, y, test_size=0.25, random_state=seed)\n",
    "\n",
    "        neighbors_settings = range(1,70)\n",
    "        acc_train = []\n",
    "        acc_test = []\n",
    "            \n",
    "        for n_neighbors in neighbors_settings:   \n",
    "            reg = KNeighborsRegressor(n_neighbors=n_neighbors) # build the model \n",
    "            reg.fit(X_train, y_train) #clf = KNeighborsClassifier(n_neighbors=n_neighbors    \n",
    "            acc_train.append(reg.score(X_train, y_train)) # record training set accuracy  \n",
    "            acc_test.append(reg.score(X_test, y_test)) # record generalization accuracy    \n",
    "\n",
    "        score_train.append(acc_train)\n",
    "        score_test.append(acc_test)   \n",
    "        \n",
    "    score = np.mean(score_test, axis=0)\n",
    "    #return n_neighbor, accuracy\n",
    "    return ['kNN', np.amax(score), 'N_Neighbor = {0}'.format(np.argmax(score)+1),\n",
    "            'N/A']\n",
    "\n",
    "def train_ridge(X, y):\n",
    "    score_train = []\n",
    "    score_test = []\n",
    "    weighted_coefs=[]\n",
    "    alpha_ridge = [1e-12, 1e-10, 1e-8, 1e-4, 1e-3,0.1, 0.2,0.4, 0.75, 1, 1.5, 3, 5, 10, 15,  20]\n",
    "\n",
    "    for seed in range(Number_trials):\n",
    "        training_accuracy = []  \n",
    "        test_accuracy = []\n",
    "        X_train, X_test, y_train, y_test = train_test_split(X, y, test_size=0.25, random_state=seed)\n",
    "        for alpha_run in alpha_ridge:\n",
    "            ridge = Ridge(alpha=alpha_run).fit(X_train, y_train)\n",
    "            training_accuracy.append(ridge.score(X_train, y_train))\n",
    "            test_accuracy.append(ridge.score(X_test, y_test))\n",
    "            if alpha_run == 0.1:\n",
    "                coefs = ridge.coef_\n",
    "                weighted_coefs.append(coefs)\n",
    "                \n",
    "        score_train.append(training_accuracy)\n",
    "        score_test.append(test_accuracy)\n",
    " \n",
    "\n",
    "    mean_coefs=np.mean(weighted_coefs, axis=0) #get the mean of the weighted coefficients over all the trials       \n",
    "    score = np.mean(score_test, axis=0)\n",
    "    top_predictor=X.columns[np.argmax(np.abs(mean_coefs))]\n",
    "    abs_mean_coefs = np.abs(mean_coefs)\n",
    "    coefs_count = len(abs_mean_coefs)\n",
    "    fig, ax = plt.subplots(figsize=(3,5))\n",
    "    ax.barh(np.arange(coefs_count), sorted(abs_mean_coefs))\n",
    "        #ax.barh(np.arange(coefs_count), mean_coefs[0, np.argsort(abs_mean_coefs)])\n",
    "    ax.set_yticks(np.arange(coefs_count))\n",
    "    ax.set_yticklabels(X.columns[np.argsort(abs_mean_coefs)])\n",
    "    ax.set_title(\"Ridge: Feature's Weight\")\n",
    "    return ['Ridge Regression', np.amax(test_accuracy), \\\n",
    "            'Alpha-ridge = {0}'.format(alpha_ridge[np.argmax(score)]),\n",
    "            top_predictor]\n",
    "\n",
    "def train_lasso(X, y):\n",
    "    score_train = []\n",
    "    score_test = []\n",
    "    weighted_coefs=[]\n",
    "    alpha_lasso = [1e-12, 1e-10, 1e-8, 1e-4, 1e-3,0.1, 0.2,0.4, 0.75, 1, 1.5, 3, 5, 10, 15,  20]\n",
    "\n",
    "    for seed in range(Number_trials):\n",
    "        training_accuracy = []  \n",
    "        test_accuracy = []\n",
    "        X_train, X_test, y_train, y_test = train_test_split(X, y, test_size=0.25, random_state=seed)\n",
    "        for alpha_run in alpha_lasso:\n",
    "            lasso = Lasso(alpha=alpha_run,max_iter=100000).fit(X_train, y_train)\n",
    "            training_accuracy.append(lasso.score(X_train, y_train))\n",
    "            test_accuracy.append(lasso.score(X_test, y_test))\n",
    "            if alpha_run == 0.1:\n",
    "                coefs = lasso.coef_\n",
    "                weighted_coefs.append(coefs)\n",
    "                \n",
    "        score_train.append(training_accuracy)\n",
    "        score_test.append(test_accuracy)\n",
    " \n",
    "\n",
    "    mean_coefs=np.mean(weighted_coefs, axis=0) #get the mean of the weighted coefficients over all the trials       \n",
    "    score = np.mean(score_test, axis=0)\n",
    "    top_predictor=X.columns[np.argmax(np.abs(mean_coefs))]\n",
    "    abs_mean_coefs = np.abs(mean_coefs)\n",
    "    coefs_count = len(abs_mean_coefs)\n",
    "    fig, ax = plt.subplots(figsize=(3,5))\n",
    "    ax.barh(np.arange(coefs_count), sorted(abs_mean_coefs))\n",
    "        #ax.barh(np.arange(coefs_count), mean_coefs[0, np.argsort(abs_mean_coefs)])\n",
    "    ax.set_yticks(np.arange(coefs_count))\n",
    "    ax.set_yticklabels(X.columns[np.argsort(abs_mean_coefs)])\n",
    "    ax.set_title(\"Lasso: Feature's Weight\")\n",
    "    return ['Lasso Regression', np.amax(test_accuracy), \\\n",
    "            'Alpha-lasso = {0}'.format(alpha_lasso[np.argmax(score)]), \n",
    "            top_predictor]"
   ]
  },
  {
   "cell_type": "markdown",
   "metadata": {},
   "source": [
    "### Feature Selection"
   ]
  },
  {
   "cell_type": "markdown",
   "metadata": {},
   "source": [
    "First, we will check for the baseline test accuracy by running different regression model using all features in the given data set. Since the features have different units of measurement, we will perform standardization(mean-centering) in the data before feeding it to different regression model."
   ]
  },
  {
   "cell_type": "code",
   "execution_count": 273,
   "metadata": {
    "ExecuteTime": {
     "end_time": "2018-07-14T13:09:32.368471Z",
     "start_time": "2018-07-14T13:07:44.281639Z"
    }
   },
   "outputs": [
    {
     "data": {
      "text/html": [
       "<div>\n",
       "<style scoped>\n",
       "    .dataframe tbody tr th:only-of-type {\n",
       "        vertical-align: middle;\n",
       "    }\n",
       "\n",
       "    .dataframe tbody tr th {\n",
       "        vertical-align: top;\n",
       "    }\n",
       "\n",
       "    .dataframe thead th {\n",
       "        text-align: right;\n",
       "    }\n",
       "</style>\n",
       "<table border=\"1\" class=\"dataframe\">\n",
       "  <thead>\n",
       "    <tr style=\"text-align: right;\">\n",
       "      <th></th>\n",
       "      <th>Machine Learning Method</th>\n",
       "      <th>Test Accuracy</th>\n",
       "      <th>Best Parameter</th>\n",
       "      <th>Top Predictor</th>\n",
       "    </tr>\n",
       "  </thead>\n",
       "  <tbody>\n",
       "    <tr>\n",
       "      <th>0</th>\n",
       "      <td>kNN</td>\n",
       "      <td>0.104791</td>\n",
       "      <td>N_Neighbor = 11</td>\n",
       "      <td>N/A</td>\n",
       "    </tr>\n",
       "    <tr>\n",
       "      <th>1</th>\n",
       "      <td>Ridge Regression</td>\n",
       "      <td>0.326041</td>\n",
       "      <td>Alpha-ridge = 20</td>\n",
       "      <td>Dislikes</td>\n",
       "    </tr>\n",
       "    <tr>\n",
       "      <th>2</th>\n",
       "      <td>Lasso Regression</td>\n",
       "      <td>0.325705</td>\n",
       "      <td>Alpha-lasso = 0.1</td>\n",
       "      <td>Genre 15</td>\n",
       "    </tr>\n",
       "  </tbody>\n",
       "</table>\n",
       "</div>"
      ],
      "text/plain": [
       "  Machine Learning Method  Test Accuracy     Best Parameter Top Predictor\n",
       "0                     kNN       0.104791    N_Neighbor = 11           N/A\n",
       "1        Ridge Regression       0.326041   Alpha-ridge = 20      Dislikes\n",
       "2        Lasso Regression       0.325705  Alpha-lasso = 0.1      Genre 15"
      ]
     },
     "execution_count": 273,
     "metadata": {},
     "output_type": "execute_result"
    },
    {
     "data": {
      "image/png": "[encoded data removed]",
      "text/plain": [
       "<matplotlib.figure.Figure at 0x7fb30c7dc320>"
      ]
     },
     "metadata": {},
     "output_type": "display_data"
    },
    {
     "data": {
      "image/png": "[encoded data removed]",
      "text/plain": [
       "<matplotlib.figure.Figure at 0x7fb30c7b0b00>"
      ]
     },
     "metadata": {},
     "output_type": "display_data"
    }
   ],
   "source": [
    "scale = StandardScaler()\n",
    "X = X_rating\n",
    "y = y_rating\n",
    "X = scale.fit_transform(X)\n",
    "X = pd.DataFrame(X, columns=X_rating.columns)\n",
    "\n",
    "a = train_knn(X,y)\n",
    "b = train_ridge(X,y)\n",
    "c = train_lasso(X,y)\n",
    "cols = ['Machine Learning Method', 'Test Accuracy', 'Best Parameter',\n",
    "        'Top Predictor']\n",
    "df2 = pd.DataFrame(columns=cols)\n",
    "\n",
    "df2.loc[0] = a\n",
    "df2.loc[1] = b\n",
    "df2.loc[2] = c\n",
    "\n",
    "df2"
   ]
  },
  {
   "cell_type": "markdown",
   "metadata": {},
   "source": [
    "Looking at the table above, the regression model with the highest test accuracy is Ridge Regression model with test accuracy of **32.6%**. Moving forward, we will be selecting the top 10 highest weighted feature for the next fitting of regression model to simplify of the model and improve the test accuracy."
   ]
  },
  {
   "cell_type": "code",
   "execution_count": 327,
   "metadata": {
    "ExecuteTime": {
     "end_time": "2018-07-14T14:20:08.550808Z",
     "start_time": "2018-07-14T14:19:52.354136Z"
    }
   },
   "outputs": [
    {
     "data": {
      "text/html": [
       "<div>\n",
       "<style scoped>\n",
       "    .dataframe tbody tr th:only-of-type {\n",
       "        vertical-align: middle;\n",
       "    }\n",
       "\n",
       "    .dataframe tbody tr th {\n",
       "        vertical-align: top;\n",
       "    }\n",
       "\n",
       "    .dataframe thead th {\n",
       "        text-align: right;\n",
       "    }\n",
       "</style>\n",
       "<table border=\"1\" class=\"dataframe\">\n",
       "  <thead>\n",
       "    <tr style=\"text-align: right;\">\n",
       "      <th></th>\n",
       "      <th>Machine Learning Method</th>\n",
       "      <th>Test Accuracy</th>\n",
       "      <th>Best Parameter</th>\n",
       "      <th>Top Predictor</th>\n",
       "    </tr>\n",
       "  </thead>\n",
       "  <tbody>\n",
       "    <tr>\n",
       "      <th>0</th>\n",
       "      <td>kNN</td>\n",
       "      <td>0.122695</td>\n",
       "      <td>N_Neighbor = 10</td>\n",
       "      <td>N/A</td>\n",
       "    </tr>\n",
       "    <tr>\n",
       "      <th>1</th>\n",
       "      <td>Ridge Regression</td>\n",
       "      <td>0.372378</td>\n",
       "      <td>Alpha-ridge = 20</td>\n",
       "      <td>Dislikes</td>\n",
       "    </tr>\n",
       "    <tr>\n",
       "      <th>2</th>\n",
       "      <td>Lasso Regression</td>\n",
       "      <td>0.372378</td>\n",
       "      <td>Alpha-lasso = 0.001</td>\n",
       "      <td>Budget</td>\n",
       "    </tr>\n",
       "  </tbody>\n",
       "</table>\n",
       "</div>"
      ],
      "text/plain": [
       "  Machine Learning Method  Test Accuracy       Best Parameter Top Predictor\n",
       "0                     kNN       0.122695      N_Neighbor = 10           N/A\n",
       "1        Ridge Regression       0.372378     Alpha-ridge = 20      Dislikes\n",
       "2        Lasso Regression       0.372378  Alpha-lasso = 0.001        Budget"
      ]
     },
     "execution_count": 327,
     "metadata": {},
     "output_type": "execute_result"
    },
    {
     "data": {
      "image/png": "[encoded data removed]",
      "text/plain": [
       "<matplotlib.figure.Figure at 0x7fb30c456240>"
      ]
     },
     "metadata": {},
     "output_type": "display_data"
    },
    {
     "data": {
      "image/png": "[encoded data removed]",
      "text/plain": [
       "<matplotlib.figure.Figure at 0x7fb30d07c940>"
      ]
     },
     "metadata": {},
     "output_type": "display_data"
    }
   ],
   "source": [
    "selected_rating = ['Dislikes', 'Budget', 'Likes', 'Views', 'Comments',\n",
    "                   'Genre 15', 'Genre 9', 'Genre 7', 'Genre 10', 'Sentiment']\n",
    "scale = StandardScaler()\n",
    "X = X_rating[selected_rating]\n",
    "dummy = X\n",
    "y = y_rating\n",
    "X = scale.fit_transform(X)\n",
    "X = pd.DataFrame(X, columns=dummy.columns)\n",
    "\n",
    "a = train_knn(X,y)\n",
    "b = train_ridge(X,y)\n",
    "c = train_lasso(X,y)\n",
    "cols = ['Machine Learning Method', 'Test Accuracy', 'Best Parameter',\n",
    "        'Top Predictor']\n",
    "df2 = pd.DataFrame(columns=cols)\n",
    "\n",
    "df2.loc[0] = a\n",
    "df2.loc[1] = b\n",
    "df2.loc[2] = c\n",
    "\n",
    "df2"
   ]
  },
  {
   "cell_type": "markdown",
   "metadata": {},
   "source": [
    "The model that we will be choosing is **Lasso Regression** $\\alpha=0.001$ with test accuracy of **37.24%**."
   ]
  },
  {
   "cell_type": "code",
   "execution_count": 288,
   "metadata": {
    "ExecuteTime": {
     "end_time": "2018-07-14T13:31:28.307857Z",
     "start_time": "2018-07-14T13:22:53.419442Z"
    }
   },
   "outputs": [
    {
     "data": {
      "text/html": [
       "<div>\n",
       "<style scoped>\n",
       "    .dataframe tbody tr th:only-of-type {\n",
       "        vertical-align: middle;\n",
       "    }\n",
       "\n",
       "    .dataframe tbody tr th {\n",
       "        vertical-align: top;\n",
       "    }\n",
       "\n",
       "    .dataframe thead th {\n",
       "        text-align: right;\n",
       "    }\n",
       "</style>\n",
       "<table border=\"1\" class=\"dataframe\">\n",
       "  <thead>\n",
       "    <tr style=\"text-align: right;\">\n",
       "      <th></th>\n",
       "      <th>Machine Learning Method</th>\n",
       "      <th>Test Accuracy</th>\n",
       "      <th>Best Parameter</th>\n",
       "      <th>Top Predictor</th>\n",
       "    </tr>\n",
       "  </thead>\n",
       "  <tbody>\n",
       "    <tr>\n",
       "      <th>0</th>\n",
       "      <td>kNN</td>\n",
       "      <td>0.458465</td>\n",
       "      <td>N_Neighbor = 20</td>\n",
       "      <td>N/A</td>\n",
       "    </tr>\n",
       "    <tr>\n",
       "      <th>1</th>\n",
       "      <td>Ridge Regression</td>\n",
       "      <td>0.760610</td>\n",
       "      <td>Alpha-ridge = 20</td>\n",
       "      <td>Budget</td>\n",
       "    </tr>\n",
       "    <tr>\n",
       "      <th>2</th>\n",
       "      <td>Lasso Regression</td>\n",
       "      <td>0.761392</td>\n",
       "      <td>Alpha-lasso = 1e-12</td>\n",
       "      <td>Budget</td>\n",
       "    </tr>\n",
       "  </tbody>\n",
       "</table>\n",
       "</div>"
      ],
      "text/plain": [
       "  Machine Learning Method  Test Accuracy       Best Parameter Top Predictor\n",
       "0                     kNN       0.458465      N_Neighbor = 20           N/A\n",
       "1        Ridge Regression       0.760610     Alpha-ridge = 20        Budget\n",
       "2        Lasso Regression       0.761392  Alpha-lasso = 1e-12        Budget"
      ]
     },
     "execution_count": 288,
     "metadata": {},
     "output_type": "execute_result"
    },
    {
     "data": {
      "image/png": "[encoded data removed]",
      "text/plain": [
       "<matplotlib.figure.Figure at 0x7fb30d0e5f28>"
      ]
     },
     "metadata": {},
     "output_type": "display_data"
    },
    {
     "data": {
      "image/png": "[encoded data removed]",
      "text/plain": [
       "<matplotlib.figure.Figure at 0x7fb30cf4fcf8>"
      ]
     },
     "metadata": {},
     "output_type": "display_data"
    }
   ],
   "source": [
    "scale = StandardScaler()\n",
    "X = X_gross\n",
    "y = y_gross\n",
    "X = scale.fit_transform(X)\n",
    "X = pd.DataFrame(X, columns=X_gross.columns)\n",
    "\n",
    "a = train_knn(X,y)\n",
    "b = train_ridge(X,y)\n",
    "c = train_lasso(X,y)\n",
    "cols = ['Machine Learning Method', 'Test Accuracy', 'Best Parameter',\n",
    "        'Top Predictor']\n",
    "df2 = pd.DataFrame(columns=cols)\n",
    "\n",
    "df2.loc[0] = a\n",
    "df2.loc[1] = b\n",
    "df2.loc[2] = c\n",
    "\n",
    "df2"
   ]
  },
  {
   "cell_type": "markdown",
   "metadata": {},
   "source": [
    "Looking at the table above, the regression model with the highest test accuracy is Lasso Regression model with test accuracy of **76.14%**. Moving forward, we will be selecting the top 5 highest weighted feature in the **Correlation Analysis** for the next fitting of regression model to simplify of the model."
   ]
  },
  {
   "cell_type": "code",
   "execution_count": 318,
   "metadata": {
    "ExecuteTime": {
     "end_time": "2018-07-14T14:12:52.921331Z",
     "start_time": "2018-07-14T14:12:52.903577Z"
    }
   },
   "outputs": [
    {
     "data": {
      "text/plain": [
       "Gross                  1.000000\n",
       "Budget                 0.720595\n",
       "Screens                0.596833\n",
       "Sequel                 0.423711\n",
       "Ratings                0.342204\n",
       "Genre 1                0.327507\n",
       "Aggregate Followers    0.322256\n",
       "Genre 3               -0.205678\n",
       "Genre 12               0.183597\n",
       "Views                  0.176363\n",
       "Dislikes               0.161536\n",
       "Genre 8               -0.152765\n",
       "Genre 2                0.147702\n",
       "Comments               0.125960\n",
       "Genre 10              -0.117084\n",
       "Likes                  0.110432\n",
       "Genre 15              -0.092823\n",
       "Genre 7               -0.071702\n",
       "Genre 9               -0.063064\n",
       "Genre 6               -0.055265\n",
       "Genre 4               -0.049694\n",
       "Sentiment             -0.017100\n",
       "Name: Gross, dtype: float64"
      ]
     },
     "execution_count": 318,
     "metadata": {},
     "output_type": "execute_result"
    }
   ],
   "source": [
    "S = final.iloc[:,2:].corr()['Gross']\n",
    "order = S.map(lambda x : x).abs().sort_values(ascending = False)\n",
    "S[order.index][abs(S[order.index]) > 0]"
   ]
  },
  {
   "cell_type": "markdown",
   "metadata": {},
   "source": [
    "The features that we selected are *Budget, Screens, Sequel, Ratings* and *Action Movies*."
   ]
  },
  {
   "cell_type": "code",
   "execution_count": 329,
   "metadata": {
    "ExecuteTime": {
     "end_time": "2018-07-14T14:22:00.974777Z",
     "start_time": "2018-07-14T14:21:20.802821Z"
    }
   },
   "outputs": [
    {
     "data": {
      "text/html": [
       "<div>\n",
       "<style scoped>\n",
       "    .dataframe tbody tr th:only-of-type {\n",
       "        vertical-align: middle;\n",
       "    }\n",
       "\n",
       "    .dataframe tbody tr th {\n",
       "        vertical-align: top;\n",
       "    }\n",
       "\n",
       "    .dataframe thead th {\n",
       "        text-align: right;\n",
       "    }\n",
       "</style>\n",
       "<table border=\"1\" class=\"dataframe\">\n",
       "  <thead>\n",
       "    <tr style=\"text-align: right;\">\n",
       "      <th></th>\n",
       "      <th>Machine Learning Method</th>\n",
       "      <th>Test Accuracy</th>\n",
       "      <th>Best Parameter</th>\n",
       "      <th>Top Predictor</th>\n",
       "    </tr>\n",
       "  </thead>\n",
       "  <tbody>\n",
       "    <tr>\n",
       "      <th>0</th>\n",
       "      <td>kNN</td>\n",
       "      <td>0.516475</td>\n",
       "      <td>N_Neighbor = 11</td>\n",
       "      <td>N/A</td>\n",
       "    </tr>\n",
       "    <tr>\n",
       "      <th>1</th>\n",
       "      <td>Ridge Regression</td>\n",
       "      <td>0.796082</td>\n",
       "      <td>Alpha-ridge = 20</td>\n",
       "      <td>Budget</td>\n",
       "    </tr>\n",
       "    <tr>\n",
       "      <th>2</th>\n",
       "      <td>Lasso Regression</td>\n",
       "      <td>0.792738</td>\n",
       "      <td>Alpha-lasso = 20</td>\n",
       "      <td>Budget</td>\n",
       "    </tr>\n",
       "  </tbody>\n",
       "</table>\n",
       "</div>"
      ],
      "text/plain": [
       "  Machine Learning Method  Test Accuracy    Best Parameter Top Predictor\n",
       "0                     kNN       0.516475   N_Neighbor = 11           N/A\n",
       "1        Ridge Regression       0.796082  Alpha-ridge = 20        Budget\n",
       "2        Lasso Regression       0.792738  Alpha-lasso = 20        Budget"
      ]
     },
     "execution_count": 329,
     "metadata": {},
     "output_type": "execute_result"
    },
    {
     "data": {
      "image/png": "[encoded data removed]",
      "text/plain": [
       "<matplotlib.figure.Figure at 0x7fb30d372b70>"
      ]
     },
     "metadata": {},
     "output_type": "display_data"
    },
    {
     "data": {
      "image/png": "[encoded data removed]",
      "text/plain": [
       "<matplotlib.figure.Figure at 0x7fb30c594128>"
      ]
     },
     "metadata": {},
     "output_type": "display_data"
    }
   ],
   "source": [
    "selected_gross = ['Budget', 'Screens', 'Sequel', 'Ratings', 'Genre 1']\n",
    "scale = StandardScaler()\n",
    "X = X_gross[selected_gross]\n",
    "dummy = X\n",
    "y = y_gross\n",
    "X = scale.fit_transform(X)\n",
    "X = pd.DataFrame(X, columns=dummy.columns)\n",
    "\n",
    "a = train_knn(X,y)\n",
    "b = train_ridge(X,y)\n",
    "c = train_lasso(X,y)\n",
    "cols = ['Machine Learning Method', 'Test Accuracy', 'Best Parameter',\n",
    "        'Top Predictor']\n",
    "df2 = pd.DataFrame(columns=cols)\n",
    "\n",
    "df2.loc[0] = a\n",
    "df2.loc[1] = b\n",
    "df2.loc[2] = c\n",
    "\n",
    "df2"
   ]
  },
  {
   "cell_type": "markdown",
   "metadata": {},
   "source": [
    "The model that we will be choosing is **Ridge Regression** $\\alpha=20$ with test accuracy of **79.61%**."
   ]
  },
  {
   "cell_type": "markdown",
   "metadata": {},
   "source": [
    "### Result and Discussion\n",
    "**Ratings Predictive Model** <br>\n",
    "The model that we will be choosing is Lasso Regression $\\alpha=0.001$ with test accuracy of **37.24%** using 10 features. With this result, audience generally don't like horror movies since movie with a genre of horror has a tendency of having a lower ratings compared to others. On the other hand, mind-boggling movies have the tendency of getting higher ratings. Additionally, the number of dislikes comes first followed by the budget of the film for the top predictor of ratings. <br>\n",
    "**Gross Income Predictive Model** <br>\n",
    "The model that we will be choosing is Ridge Regression $\\alpha=20$ with test accuracy of **79.61%** using 5 features namely Budget, Screens, Sequel, Ratings, and Action Movies. In conclusion, movies with higher budget have a tendency of gaining higher gross income. Additionally, movies that have more number of screens have higher gross income compared to others. Lastly, Action Movies generally have high gross income based on the results of the predictive model."
   ]
  },
  {
   "cell_type": "markdown",
   "metadata": {},
   "source": [
    "#### Recommendation\n",
    "If you are planning to produce/direct a movie, you need to consider these variables, **Budget, Ratings,** and **Plot of the Movie**, in order for the film to be a box office hit. Moreover, **Ratings** are usually determined based on the genre of the movie and we observed that *Horror Movies* tend to have lower ratings compared to others. In effect, if you are planning to make a *Horror Movie*, be sure to improve the other variables stated earlier for it to be successful. In both predicting the **Ratings** and **Gross Income**, the top predictor variable is **Budget**. This clearly says that the alloted **Budget** in the movie will be sufficient information to determine whether it will be a **Hit** or **Flop** movie."
   ]
  },
  {
   "cell_type": "markdown",
   "metadata": {},
   "source": [
    "### References\n",
    "- Monterola, Chris. Linear Regression.ipynb. Asian Institute of Management 2018"
   ]
  }
 ],
 "metadata": {
  "kernelspec": {
   "display_name": "Python 3",
   "language": "python",
   "name": "python3"
  },
  "language_info": {
   "codemirror_mode": {
    "name": "ipython",
    "version": 3
   },
   "file_extension": ".py",
   "mimetype": "text/x-python",
   "name": "python",
   "nbconvert_exporter": "python",
   "pygments_lexer": "ipython3",
   "version": "3.7.3"
  }
 },
 "nbformat": 4,
 "nbformat_minor": 2
}
