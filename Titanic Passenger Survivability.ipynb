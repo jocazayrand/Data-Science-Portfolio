{
 "cells": [
  {
   "cell_type": "markdown",
   "metadata": {},
   "source": [
    "## Titanic: Determine Survivability from a Sinking Ship using Machine Learning"
   ]
  },
  {
   "cell_type": "markdown",
   "metadata": {},
   "source": [
    "__Author:__ [Jocaz Ayrand G. Entico](https://www.linkedin.com/in/jocaz-entico-4675b9144/)"
   ]
  },
  {
   "cell_type": "markdown",
   "metadata": {},
   "source": [
    "### Executive Summary\n",
    "In this notebook, we are modeling the sinking of titanic and what are the possible variables and features to be considered for a certain passenger to survive the crash. We are implementing ensemble of machine learning models namely K-Nearest Neighbor, Logistic, Linear SVM, Nonlinear SVM, Decision Trees, Random Forest, and Gradient Boosting Method, and determine the top model with respect to the test accuracy for the Titanic data set. <br>\n",
    "\n",
    "We are choosing the top three machine learning model that would be the best to be implemented in this data set. After using the Jude's Automated System (JUDAS), contains set of methods for implementing the machine learning algorithms, the top three machine learning classification algorithm with the highest test accuracy are **Gradient Boosting Method, Random Forest,** and **Decision Trees**. **Gradient Boosting Method** has a test accuracy of 80.78% with optimal number of max depth equal to $4$. Next, **Random Forest** has a test accuracy of 80.77 with $max\\ depth=8$. Lastly, **Decision Trees** has test accuracy of 80.58% with $max\\ depth=3$. The top predictor in determining survivability of each passenger is their sex."
   ]
  },
  {
   "cell_type": "markdown",
   "metadata": {},
   "source": [
    "### Let's Start!\n",
    "Let's begin by providing all the libraries to be used in this notebook."
   ]
  },
  {
   "cell_type": "code",
   "execution_count": 41,
   "metadata": {
    "ExecuteTime": {
     "end_time": "2018-07-23T12:25:56.131205Z",
     "start_time": "2018-07-23T12:25:56.110019Z"
    }
   },
   "outputs": [],
   "source": [
    "import pandas as pd\n",
    "from collections import Counter\n",
    "from sklearn.base import TransformerMixin\n",
    "import numpy as np\n",
    "%matplotlib inline\n",
    "import matplotlib.pyplot as plt\n",
    "import seaborn as sns\n",
    "from sklearn.neighbors import KNeighborsClassifier\n",
    "from sklearn.linear_model import LogisticRegression\n",
    "from sklearn.svm import LinearSVC\n",
    "from sklearn.svm import SVC\n",
    "from sklearn.model_selection import train_test_split\n",
    "from sklearn.tree import DecisionTreeClassifier\n",
    "import pylab as plot\n",
    "from sklearn.ensemble import RandomForestClassifier\n",
    "from sklearn.ensemble import GradientBoostingClassifier\n",
    "from sklearn.preprocessing import MinMaxScaler\n",
    "from sklearn.preprocessing import StandardScaler"
   ]
  },
  {
   "cell_type": "markdown",
   "metadata": {},
   "source": [
    "### Data Description\n",
    "The dataset is compsed of the information of the passengers in the Titanic and whether they survived the crash or not."
   ]
  },
  {
   "cell_type": "code",
   "execution_count": 28,
   "metadata": {
    "ExecuteTime": {
     "end_time": "2018-07-23T10:53:40.270198Z",
     "start_time": "2018-07-23T10:53:40.071514Z"
    }
   },
   "outputs": [],
   "source": [
    "df = pd.read_excel('titanic.xls')"
   ]
  },
  {
   "cell_type": "code",
   "execution_count": 29,
   "metadata": {
    "ExecuteTime": {
     "end_time": "2018-07-23T10:53:41.803921Z",
     "start_time": "2018-07-23T10:53:41.714944Z"
    }
   },
   "outputs": [
    {
     "data": {
      "text/html": [
       "<div>\n",
       "<style scoped>\n",
       "    .dataframe tbody tr th:only-of-type {\n",
       "        vertical-align: middle;\n",
       "    }\n",
       "\n",
       "    .dataframe tbody tr th {\n",
       "        vertical-align: top;\n",
       "    }\n",
       "\n",
       "    .dataframe thead th {\n",
       "        text-align: right;\n",
       "    }\n",
       "</style>\n",
       "<table border=\"1\" class=\"dataframe\">\n",
       "  <thead>\n",
       "    <tr style=\"text-align: right;\">\n",
       "      <th></th>\n",
       "      <th>pclass</th>\n",
       "      <th>name</th>\n",
       "      <th>sex</th>\n",
       "      <th>age</th>\n",
       "      <th>sibsp</th>\n",
       "      <th>parch</th>\n",
       "      <th>ticket</th>\n",
       "      <th>fare</th>\n",
       "      <th>cabin</th>\n",
       "      <th>embarked</th>\n",
       "      <th>target</th>\n",
       "    </tr>\n",
       "  </thead>\n",
       "  <tbody>\n",
       "    <tr>\n",
       "      <th>0</th>\n",
       "      <td>1</td>\n",
       "      <td>Allen, Miss. Elisabeth Walton</td>\n",
       "      <td>female</td>\n",
       "      <td>29.0000</td>\n",
       "      <td>0</td>\n",
       "      <td>0</td>\n",
       "      <td>24160</td>\n",
       "      <td>211.3375</td>\n",
       "      <td>B5</td>\n",
       "      <td>S</td>\n",
       "      <td>1</td>\n",
       "    </tr>\n",
       "    <tr>\n",
       "      <th>1</th>\n",
       "      <td>1</td>\n",
       "      <td>Allison, Master. Hudson Trevor</td>\n",
       "      <td>male</td>\n",
       "      <td>0.9167</td>\n",
       "      <td>1</td>\n",
       "      <td>2</td>\n",
       "      <td>113781</td>\n",
       "      <td>151.5500</td>\n",
       "      <td>C22 C26</td>\n",
       "      <td>S</td>\n",
       "      <td>1</td>\n",
       "    </tr>\n",
       "    <tr>\n",
       "      <th>2</th>\n",
       "      <td>1</td>\n",
       "      <td>Allison, Miss. Helen Loraine</td>\n",
       "      <td>female</td>\n",
       "      <td>2.0000</td>\n",
       "      <td>1</td>\n",
       "      <td>2</td>\n",
       "      <td>113781</td>\n",
       "      <td>151.5500</td>\n",
       "      <td>C22 C26</td>\n",
       "      <td>S</td>\n",
       "      <td>0</td>\n",
       "    </tr>\n",
       "    <tr>\n",
       "      <th>3</th>\n",
       "      <td>1</td>\n",
       "      <td>Allison, Mr. Hudson Joshua Creighton</td>\n",
       "      <td>male</td>\n",
       "      <td>30.0000</td>\n",
       "      <td>1</td>\n",
       "      <td>2</td>\n",
       "      <td>113781</td>\n",
       "      <td>151.5500</td>\n",
       "      <td>C22 C26</td>\n",
       "      <td>S</td>\n",
       "      <td>0</td>\n",
       "    </tr>\n",
       "    <tr>\n",
       "      <th>4</th>\n",
       "      <td>1</td>\n",
       "      <td>Allison, Mrs. Hudson J C (Bessie Waldo Daniels)</td>\n",
       "      <td>female</td>\n",
       "      <td>25.0000</td>\n",
       "      <td>1</td>\n",
       "      <td>2</td>\n",
       "      <td>113781</td>\n",
       "      <td>151.5500</td>\n",
       "      <td>C22 C26</td>\n",
       "      <td>S</td>\n",
       "      <td>0</td>\n",
       "    </tr>\n",
       "  </tbody>\n",
       "</table>\n",
       "</div>"
      ],
      "text/plain": [
       "   pclass                                             name     sex      age  \\\n",
       "0       1                    Allen, Miss. Elisabeth Walton  female  29.0000   \n",
       "1       1                   Allison, Master. Hudson Trevor    male   0.9167   \n",
       "2       1                     Allison, Miss. Helen Loraine  female   2.0000   \n",
       "3       1             Allison, Mr. Hudson Joshua Creighton    male  30.0000   \n",
       "4       1  Allison, Mrs. Hudson J C (Bessie Waldo Daniels)  female  25.0000   \n",
       "\n",
       "   sibsp  parch  ticket      fare    cabin embarked  target  \n",
       "0      0      0   24160  211.3375       B5        S       1  \n",
       "1      1      2  113781  151.5500  C22 C26        S       1  \n",
       "2      1      2  113781  151.5500  C22 C26        S       0  \n",
       "3      1      2  113781  151.5500  C22 C26        S       0  \n",
       "4      1      2  113781  151.5500  C22 C26        S       0  "
      ]
     },
     "execution_count": 29,
     "metadata": {},
     "output_type": "execute_result"
    }
   ],
   "source": [
    "df.head()"
   ]
  },
  {
   "cell_type": "markdown",
   "metadata": {},
   "source": [
    "### Data Preprocessing"
   ]
  },
  {
   "cell_type": "code",
   "execution_count": 4,
   "metadata": {
    "ExecuteTime": {
     "end_time": "2018-07-23T10:33:32.575035Z",
     "start_time": "2018-07-23T10:33:32.565937Z"
    },
    "scrolled": true
   },
   "outputs": [
    {
     "data": {
      "text/plain": [
       "pclass         0\n",
       "name           0\n",
       "sex            0\n",
       "age          263\n",
       "sibsp          0\n",
       "parch          0\n",
       "ticket         0\n",
       "fare           1\n",
       "cabin       1014\n",
       "embarked       2\n",
       "target         0\n",
       "dtype: int64"
      ]
     },
     "execution_count": 4,
     "metadata": {},
     "output_type": "execute_result"
    }
   ],
   "source": [
    "df.isnull().sum()"
   ]
  },
  {
   "cell_type": "code",
   "execution_count": 30,
   "metadata": {
    "ExecuteTime": {
     "end_time": "2018-07-23T10:53:45.543568Z",
     "start_time": "2018-07-23T10:53:45.512604Z"
    }
   },
   "outputs": [],
   "source": [
    "# df_features = df.drop(['cabin', 'name', 'ticket'], axis=1)\n",
    "df_features = df.drop(['cabin', 'name', 'ticket'], axis=1)"
   ]
  },
  {
   "cell_type": "markdown",
   "metadata": {},
   "source": [
    "We are removing the variables *name* and *ticket* in the data set since we cannot represent the string into numerical value without sacrificing the dimensionality of the data set for the purpose of the analysis to be performed later. Additionally, the variable *ticket* is correlated and derivable from the variable *price*. In the case of the variable *cabin*, majority of the entry are missing so in order to resolve this, we are dropping the the variable cabin since it will be biased if we try to impute the data that is missing. On the other hand, we will be imputing the missing values for *age* by getting the mean. The same goes for the missing values on the other variables."
   ]
  },
  {
   "cell_type": "markdown",
   "metadata": {},
   "source": [
    "### Methods Definition\n",
    "We created the class *DataFrameImputer* to fill in the missing values in the variables age, fare, and embarked in the given data set."
   ]
  },
  {
   "cell_type": "code",
   "execution_count": 31,
   "metadata": {
    "ExecuteTime": {
     "end_time": "2018-07-23T10:53:49.915109Z",
     "start_time": "2018-07-23T10:53:49.899488Z"
    }
   },
   "outputs": [],
   "source": [
    "class DataFrameImputer(TransformerMixin):\n",
    "\n",
    "    def __init__(self):\n",
    "        \"\"\"Impute missing values.\n",
    "\n",
    "        Columns of dtype object are imputed with the most frequent value \n",
    "        in column.\n",
    "\n",
    "        Columns of other types are imputed with mean of column.\n",
    "\n",
    "        \"\"\"\n",
    "    def fit(self, X, y=None):\n",
    "\n",
    "        self.fill = pd.Series([X[c].value_counts().index[0]\n",
    "            if X[c].dtype == np.dtype('O') else X[c].mean() for c in X],\n",
    "            index=X.columns)\n",
    "\n",
    "        return self\n",
    "\n",
    "    def transform(self, X, y=None):\n",
    "        return X.fillna(self.fill)"
   ]
  },
  {
   "cell_type": "code",
   "execution_count": 32,
   "metadata": {
    "ExecuteTime": {
     "end_time": "2018-07-23T10:53:51.504193Z",
     "start_time": "2018-07-23T10:53:51.468939Z"
    }
   },
   "outputs": [
    {
     "data": {
      "text/html": [
       "<div>\n",
       "<style scoped>\n",
       "    .dataframe tbody tr th:only-of-type {\n",
       "        vertical-align: middle;\n",
       "    }\n",
       "\n",
       "    .dataframe tbody tr th {\n",
       "        vertical-align: top;\n",
       "    }\n",
       "\n",
       "    .dataframe thead th {\n",
       "        text-align: right;\n",
       "    }\n",
       "</style>\n",
       "<table border=\"1\" class=\"dataframe\">\n",
       "  <thead>\n",
       "    <tr style=\"text-align: right;\">\n",
       "      <th></th>\n",
       "      <th>pclass</th>\n",
       "      <th>sex</th>\n",
       "      <th>age</th>\n",
       "      <th>sibsp</th>\n",
       "      <th>parch</th>\n",
       "      <th>fare</th>\n",
       "      <th>embarked</th>\n",
       "      <th>target</th>\n",
       "    </tr>\n",
       "  </thead>\n",
       "  <tbody>\n",
       "    <tr>\n",
       "      <th>0</th>\n",
       "      <td>1</td>\n",
       "      <td>female</td>\n",
       "      <td>29.0000</td>\n",
       "      <td>0</td>\n",
       "      <td>0</td>\n",
       "      <td>211.3375</td>\n",
       "      <td>S</td>\n",
       "      <td>1</td>\n",
       "    </tr>\n",
       "    <tr>\n",
       "      <th>1</th>\n",
       "      <td>1</td>\n",
       "      <td>male</td>\n",
       "      <td>0.9167</td>\n",
       "      <td>1</td>\n",
       "      <td>2</td>\n",
       "      <td>151.5500</td>\n",
       "      <td>S</td>\n",
       "      <td>1</td>\n",
       "    </tr>\n",
       "    <tr>\n",
       "      <th>2</th>\n",
       "      <td>1</td>\n",
       "      <td>female</td>\n",
       "      <td>2.0000</td>\n",
       "      <td>1</td>\n",
       "      <td>2</td>\n",
       "      <td>151.5500</td>\n",
       "      <td>S</td>\n",
       "      <td>0</td>\n",
       "    </tr>\n",
       "    <tr>\n",
       "      <th>3</th>\n",
       "      <td>1</td>\n",
       "      <td>male</td>\n",
       "      <td>30.0000</td>\n",
       "      <td>1</td>\n",
       "      <td>2</td>\n",
       "      <td>151.5500</td>\n",
       "      <td>S</td>\n",
       "      <td>0</td>\n",
       "    </tr>\n",
       "    <tr>\n",
       "      <th>4</th>\n",
       "      <td>1</td>\n",
       "      <td>female</td>\n",
       "      <td>25.0000</td>\n",
       "      <td>1</td>\n",
       "      <td>2</td>\n",
       "      <td>151.5500</td>\n",
       "      <td>S</td>\n",
       "      <td>0</td>\n",
       "    </tr>\n",
       "  </tbody>\n",
       "</table>\n",
       "</div>"
      ],
      "text/plain": [
       "   pclass     sex      age  sibsp  parch      fare embarked  target\n",
       "0       1  female  29.0000      0      0  211.3375        S       1\n",
       "1       1    male   0.9167      1      2  151.5500        S       1\n",
       "2       1  female   2.0000      1      2  151.5500        S       0\n",
       "3       1    male  30.0000      1      2  151.5500        S       0\n",
       "4       1  female  25.0000      1      2  151.5500        S       0"
      ]
     },
     "execution_count": 32,
     "metadata": {},
     "output_type": "execute_result"
    }
   ],
   "source": [
    "df_features = DataFrameImputer().fit_transform(df_features)\n",
    "df_features.head()"
   ]
  },
  {
   "cell_type": "code",
   "execution_count": 33,
   "metadata": {
    "ExecuteTime": {
     "end_time": "2018-07-23T10:53:54.032440Z",
     "start_time": "2018-07-23T10:53:54.022525Z"
    }
   },
   "outputs": [
    {
     "data": {
      "text/plain": [
       "pclass      0\n",
       "sex         0\n",
       "age         0\n",
       "sibsp       0\n",
       "parch       0\n",
       "fare        0\n",
       "embarked    0\n",
       "target      0\n",
       "dtype: int64"
      ]
     },
     "execution_count": 33,
     "metadata": {},
     "output_type": "execute_result"
    }
   ],
   "source": [
    "df_features.isnull().sum()"
   ]
  },
  {
   "cell_type": "code",
   "execution_count": 34,
   "metadata": {
    "ExecuteTime": {
     "end_time": "2018-07-23T10:53:58.520293Z",
     "start_time": "2018-07-23T10:53:58.467306Z"
    }
   },
   "outputs": [
    {
     "data": {
      "text/html": [
       "<div>\n",
       "<style scoped>\n",
       "    .dataframe tbody tr th:only-of-type {\n",
       "        vertical-align: middle;\n",
       "    }\n",
       "\n",
       "    .dataframe tbody tr th {\n",
       "        vertical-align: top;\n",
       "    }\n",
       "\n",
       "    .dataframe thead th {\n",
       "        text-align: right;\n",
       "    }\n",
       "</style>\n",
       "<table border=\"1\" class=\"dataframe\">\n",
       "  <thead>\n",
       "    <tr style=\"text-align: right;\">\n",
       "      <th></th>\n",
       "      <th>pclass</th>\n",
       "      <th>age</th>\n",
       "      <th>sibsp</th>\n",
       "      <th>parch</th>\n",
       "      <th>fare</th>\n",
       "      <th>target</th>\n",
       "      <th>sex_male</th>\n",
       "      <th>embarked_Q</th>\n",
       "      <th>embarked_S</th>\n",
       "    </tr>\n",
       "  </thead>\n",
       "  <tbody>\n",
       "    <tr>\n",
       "      <th>0</th>\n",
       "      <td>1</td>\n",
       "      <td>29.0000</td>\n",
       "      <td>0</td>\n",
       "      <td>0</td>\n",
       "      <td>211.3375</td>\n",
       "      <td>1</td>\n",
       "      <td>0</td>\n",
       "      <td>0</td>\n",
       "      <td>1</td>\n",
       "    </tr>\n",
       "    <tr>\n",
       "      <th>1</th>\n",
       "      <td>1</td>\n",
       "      <td>0.9167</td>\n",
       "      <td>1</td>\n",
       "      <td>2</td>\n",
       "      <td>151.5500</td>\n",
       "      <td>1</td>\n",
       "      <td>1</td>\n",
       "      <td>0</td>\n",
       "      <td>1</td>\n",
       "    </tr>\n",
       "    <tr>\n",
       "      <th>2</th>\n",
       "      <td>1</td>\n",
       "      <td>2.0000</td>\n",
       "      <td>1</td>\n",
       "      <td>2</td>\n",
       "      <td>151.5500</td>\n",
       "      <td>0</td>\n",
       "      <td>0</td>\n",
       "      <td>0</td>\n",
       "      <td>1</td>\n",
       "    </tr>\n",
       "    <tr>\n",
       "      <th>3</th>\n",
       "      <td>1</td>\n",
       "      <td>30.0000</td>\n",
       "      <td>1</td>\n",
       "      <td>2</td>\n",
       "      <td>151.5500</td>\n",
       "      <td>0</td>\n",
       "      <td>1</td>\n",
       "      <td>0</td>\n",
       "      <td>1</td>\n",
       "    </tr>\n",
       "    <tr>\n",
       "      <th>4</th>\n",
       "      <td>1</td>\n",
       "      <td>25.0000</td>\n",
       "      <td>1</td>\n",
       "      <td>2</td>\n",
       "      <td>151.5500</td>\n",
       "      <td>0</td>\n",
       "      <td>0</td>\n",
       "      <td>0</td>\n",
       "      <td>1</td>\n",
       "    </tr>\n",
       "  </tbody>\n",
       "</table>\n",
       "</div>"
      ],
      "text/plain": [
       "   pclass      age  sibsp  parch      fare  target  sex_male  embarked_Q  \\\n",
       "0       1  29.0000      0      0  211.3375       1         0           0   \n",
       "1       1   0.9167      1      2  151.5500       1         1           0   \n",
       "2       1   2.0000      1      2  151.5500       0         0           0   \n",
       "3       1  30.0000      1      2  151.5500       0         1           0   \n",
       "4       1  25.0000      1      2  151.5500       0         0           0   \n",
       "\n",
       "   embarked_S  \n",
       "0           1  \n",
       "1           1  \n",
       "2           1  \n",
       "3           1  \n",
       "4           1  "
      ]
     },
     "execution_count": 34,
     "metadata": {},
     "output_type": "execute_result"
    }
   ],
   "source": [
    "final_features = pd.get_dummies(df_features, drop_first=True)\n",
    "final_features.head()"
   ]
  },
  {
   "cell_type": "markdown",
   "metadata": {},
   "source": [
    "We converted the *embarked* variable by one-hot enconding, the value **C** for the variable *embarked* does not show in the columns of the new data frame which means that the combination of embarked_Q = 0 and embarked_S = 0 show that the value of the variable *embraked* is **C**.\n",
    "- C = Cherbourg\n",
    "- Q = Queenstown\n",
    "- S = Southampton"
   ]
  },
  {
   "cell_type": "markdown",
   "metadata": {},
   "source": [
    "### Data Exploration"
   ]
  },
  {
   "cell_type": "code",
   "execution_count": 10,
   "metadata": {
    "ExecuteTime": {
     "end_time": "2018-07-23T10:33:58.325634Z",
     "start_time": "2018-07-23T10:33:52.618039Z"
    }
   },
   "outputs": [
    {
     "name": "stderr",
     "output_type": "stream",
     "text": [
      "/home/jocaz/anaconda3/lib/python3.6/site-packages/statsmodels/nonparametric/kde.py:448: RuntimeWarning: invalid value encountered in greater\n",
      "  X = X[np.logical_and(X > clip[0], X < clip[1])] # won't work for two columns.\n",
      "/home/jocaz/anaconda3/lib/python3.6/site-packages/statsmodels/nonparametric/kde.py:448: RuntimeWarning: invalid value encountered in less\n",
      "  X = X[np.logical_and(X > clip[0], X < clip[1])] # won't work for two columns.\n",
      "/home/jocaz/anaconda3/lib/python3.6/site-packages/statsmodels/nonparametric/kde.py:488: RuntimeWarning: invalid value encountered in true_divide\n",
      "  binned = fast_linbin(X, a, b, gridsize) / (delta * nobs)\n",
      "/home/jocaz/anaconda3/lib/python3.6/site-packages/statsmodels/nonparametric/kdetools.py:34: RuntimeWarning: invalid value encountered in double_scalars\n",
      "  FAC1 = 2*(np.pi*bw/RANGE)**2\n",
      "/home/jocaz/anaconda3/lib/python3.6/site-packages/numpy/core/_methods.py:26: RuntimeWarning: invalid value encountered in reduce\n",
      "  return umr_maximum(a, axis, None, out, keepdims)\n"
     ]
    },
    {
     "data": {
      "image/png": "[encoded data removed]",
      "text/plain": [
       "<matplotlib.figure.Figure at 0x7f823d0b7e10>"
      ]
     },
     "metadata": {},
     "output_type": "display_data"
    }
   ],
   "source": [
    "sns.set(style=\"ticks\")\n",
    "\n",
    "sns.pairplot(df, hue=\"target\", diag_kind='kde')\n",
    "\n",
    "pass"
   ]
  },
  {
   "cell_type": "markdown",
   "metadata": {},
   "source": [
    "We can observe at the pairplot that their is no clear demarcation on the features in the data set pairwise. We can look the relationship of each variable to one another after we determine the optimal machine learning model to be used with the highest test accuracy."
   ]
  },
  {
   "cell_type": "code",
   "execution_count": 11,
   "metadata": {
    "ExecuteTime": {
     "end_time": "2018-07-23T10:34:04.492139Z",
     "start_time": "2018-07-23T10:34:04.167626Z"
    }
   },
   "outputs": [],
   "source": [
    "state_counts = Counter(df['target'])\n",
    "df_state = pd.DataFrame.from_dict(state_counts, orient='index')\n",
    "num = (df_state[0]/df_state[0].sum())**2"
   ]
  },
  {
   "cell_type": "code",
   "execution_count": 12,
   "metadata": {
    "ExecuteTime": {
     "end_time": "2018-07-23T10:34:05.748389Z",
     "start_time": "2018-07-23T10:34:05.482243Z"
    }
   },
   "outputs": [
    {
     "name": "stdout",
     "output_type": "stream",
     "text": [
      "Population per class:      0\n",
      "1  500\n",
      "0  809\n",
      "\n"
     ]
    },
    {
     "data": {
      "image/png": "[encoded data removed]",
      "text/plain": [
       "<matplotlib.figure.Figure at 0x7f823843f6d8>"
      ]
     },
     "metadata": {},
     "output_type": "display_data"
    }
   ],
   "source": [
    "ax = df_state.plot(kind='bar')\n",
    "ax.legend(['Titanic'])\n",
    "ax.set_ylabel('Frequency')\n",
    "print(\"Population per class: {}\\n\".format(df_state))\n",
    "ax.set_xticklabels(['Survived', 'Dead']);"
   ]
  },
  {
   "cell_type": "markdown",
   "metadata": {},
   "source": [
    "In this dataset, there are __500__ individuals who **Survived**, and __809__ who individuals who did not make it after the Titanic incident."
   ]
  },
  {
   "cell_type": "code",
   "execution_count": 13,
   "metadata": {
    "ExecuteTime": {
     "end_time": "2018-07-23T10:34:09.293241Z",
     "start_time": "2018-07-23T10:34:09.284276Z"
    }
   },
   "outputs": [
    {
     "name": "stdout",
     "output_type": "stream",
     "text": [
      "1.25 * Proportion Chance Criterion: 65.98271296851263%\n"
     ]
    }
   ],
   "source": [
    "print(\"1.25 * Proportion Chance Criterion: {}%\".format(1.25*100*num.sum()))"
   ]
  },
  {
   "cell_type": "markdown",
   "metadata": {},
   "source": [
    "The minimum accuracy a classifier must have for the classification is 65.98% for it to be considered significant."
   ]
  },
  {
   "cell_type": "markdown",
   "metadata": {},
   "source": [
    "### Model Selection"
   ]
  },
  {
   "cell_type": "markdown",
   "metadata": {},
   "source": [
    "We will be using the Jude's Automated System (JUDAS) for determining the top 3 machine learning model for this specific data set."
   ]
  },
  {
   "cell_type": "code",
   "execution_count": 42,
   "metadata": {
    "ExecuteTime": {
     "end_time": "2018-07-23T12:26:32.206088Z",
     "start_time": "2018-07-23T12:26:29.641135Z"
    }
   },
   "outputs": [],
   "source": [
    "Number_trials=50\n",
    "\n",
    "def train_knn(X, y):\n",
    "    score_train = []\n",
    "    score_test = []\n",
    "\n",
    "    for seed in range(Number_trials):\n",
    "        X_train, X_test, y_train, y_test = train_test_split(X, y, test_size=0.25, random_state=seed)\n",
    "\n",
    "        neighbors_settings = range(1,70)\n",
    "        acc_train = []\n",
    "        acc_test = []\n",
    "\n",
    "        for n_neighbors in neighbors_settings:   \n",
    "            clf = KNeighborsClassifier(n_neighbors=n_neighbors) # build the model \n",
    "            clf.fit(X_train, y_train)    \n",
    "            acc_train.append(clf.score(X_train, y_train))\n",
    "            acc_test.append(clf.score(X_test, y_test))\n",
    "\n",
    "        score_train.append(acc_train)\n",
    "        score_test.append(acc_test)   \n",
    "        \n",
    "    score = np.mean(score_test, axis=0)\n",
    "    #return n_neighbor, accuracy\n",
    "    return ['kNN', np.amax(score), 'N_Neighbor = {0}'.format(np.argmax(score)+1), 'Not Now']\n",
    "\n",
    "def train_logistic(X, y, reg):\n",
    "    C = [1e-8, 1e-4, 1e-3, 1e-2, 0.1, 0.2,0.4, 0.75, 1, 1.5, 3, 5, 10, 15,  20, 100, 300, 1000, 5000]\n",
    "    #C = [0.01]\n",
    "\n",
    "    score_train = []\n",
    "    score_test = []\n",
    "    weighted_coefs=[]\n",
    "    \n",
    "    for seed in range(Number_trials):\n",
    "        training_accuracy = []  \n",
    "        test_accuracy = []\n",
    "        X_train, X_test, y_train, y_test = train_test_split(X, y, test_size=0.25, random_state=seed)\n",
    "        for alpha_run in C:\n",
    "            lr = LogisticRegression(C=alpha_run, penalty=reg).fit(X_train, y_train)\n",
    "            training_accuracy.append(lr.score(X_train, y_train))\n",
    "            test_accuracy.append(lr.score(X_test, y_test))\n",
    "            if alpha_run == 0.1:\n",
    "                coefs=lr.coef_ \n",
    "                weighted_coefs.append(coefs) #append all the computed coefficients per trial\n",
    "                \n",
    "        score_train.append(training_accuracy)\n",
    "        score_test.append(test_accuracy)\n",
    "    \n",
    "    mean_coefs=np.mean(weighted_coefs, axis=0) #get the mean of the weighted coefficients over all the trials \n",
    "    #print(mean_coefs) \n",
    "    score = np.mean(score_test, axis=0)\n",
    "    #return score.shape\n",
    "    #coefs = lr.coef_\n",
    "    #return C value, accuracy, column/feature name\n",
    "    \n",
    "    if scaler == 'ON':\n",
    "        top_predictor = 'DEBUGGING'\n",
    "    if scaler == 'OFF':\n",
    "        top_predictor=X.columns[np.argmax(np.abs(mean_coefs))]\n",
    "        abs_mean_coefs = np.abs(mean_coefs[0,:])\n",
    "        coefs_count = len(abs_mean_coefs)\n",
    "#         fig, ax = plt.subplots(figsize=(3,5))\n",
    "#         ax.barh(np.arange(coefs_count), sorted(abs_mean_coefs))\n",
    "#         #ax.barh(np.arange(coefs_count), mean_coefs[0, np.argsort(abs_mean_coefs)])\n",
    "#         ax.set_yticks(np.arange(coefs_count))\n",
    "#         ax.set_yticklabels(X.columns[np.argsort(abs_mean_coefs)])\n",
    "        \n",
    "    return ['Logistic ({0})'.format(reg), np.amax(score), \\\n",
    "            'C = {0}'.format(C[np.argmax(score)]), top_predictor]\n",
    "\n",
    "def train_svm(X, y, reg):\n",
    "    C = [1e-8, 1e-4, 1e-3, 1e-2, 0.1, 0.2,0.4, 0.75, 1, 1.5, 3, 5, 10, 15,  20, 100, 300, 1000, 5000]\n",
    "    #C = [0.01]\n",
    "    \n",
    "    score_train = []\n",
    "    score_test = []\n",
    "    weighted_coefs=[]\n",
    "    \n",
    "    for seed in range(Number_trials):\n",
    "        training_accuracy = []  \n",
    "        test_accuracy = []\n",
    "        X_train, X_test, y_train, y_test = train_test_split(X, y, test_size=0.25, random_state=seed)\n",
    "        for alpha_run in C:\n",
    "            if reg == 'l1':\n",
    "                svc = LinearSVC(C=alpha_run, penalty=reg, loss='squared_hinge', dual=False).fit(X_train, y_train)\n",
    "            if reg == 'l2':\n",
    "                svc = LinearSVC(C=alpha_run, penalty=reg).fit(X_train, y_train)\n",
    "            training_accuracy.append(svc.score(X_train, y_train))\n",
    "            test_accuracy.append(svc.score(X_test, y_test))\n",
    "            if alpha_run == 0.1:\n",
    "                coefs = svc.coef_\n",
    "                weighted_coefs.append(coefs)\n",
    "                \n",
    "        score_train.append(training_accuracy)\n",
    "        score_test.append(test_accuracy)\n",
    " \n",
    "\n",
    "    mean_coefs=np.mean(weighted_coefs, axis=0) #get the mean of the weighted coefficients over all the trials       \n",
    "    score = np.mean(score_test, axis=0)\n",
    "    \n",
    "    #if scaler == 'ON':\n",
    "    #    top_predictor = 'DEBUGGING'\n",
    "    #if scaler == 'OFF':\n",
    "    top_predictor=X.columns[np.argmax(np.abs(mean_coefs))]\n",
    "    abs_mean_coefs = np.abs(mean_coefs[0,:])\n",
    "    coefs_count = len(abs_mean_coefs)\n",
    "#     fig, ax = plt.subplots(figsize=(3,5))\n",
    "#     ax.barh(np.arange(coefs_count), sorted(abs_mean_coefs))\n",
    "        #ax.barh(np.arange(coefs_count), mean_coefs[0, np.argsort(abs_mean_coefs)])\n",
    "#     ax.set_yticks(np.arange(coefs_count))\n",
    "#     ax.set_yticklabels(X.columns[np.argsort(abs_mean_coefs)])\n",
    "        #print(X.columns(np.arg(np.abs(mean_coefs)))\n",
    "        #print(np.abs(mean_coefs))\n",
    "    #return score\n",
    "    #return C value, accuracy, column/feature name\n",
    "    #y_pred = lsvc_l1.predict(X_test)\n",
    "    #confmat = confusion_matrix(y_true=y_test, y_pred=y_pred)\n",
    "    #print(confmat)\n",
    "    return ['Linear SVM ({0})'.format(reg), np.amax(score), \\\n",
    "            'C = {0}'.format(C[np.argmax(score)]), top_predictor]\n",
    "\n",
    "\n",
    "def train_Nsvm(X, y, reg):\n",
    "    #CC = [.1]\n",
    "    #C = [0.01]\n",
    "    CC = [1e-8, 1e-4, 1e-3, 1e-2, 0.1, 0.2,0.4, 0.75, 1, 1.5, 3, 5, 10, 15,  20, 100, 300, 1000, 5000]\n",
    "\n",
    "    score_train = []\n",
    "    score_test = []\n",
    "    weighted_coefs=[]\n",
    "    \n",
    "    for seed in range(Number_trials):\n",
    "        training_accuracy = []  \n",
    "        test_accuracy = []\n",
    "        X_train, X_test, y_train, y_test = train_test_split(X, y, test_size=0.25, random_state=seed)\n",
    "        for alpha_run in CC:\n",
    "            svm = SVC(kernel='rbf', gamma=alpha_run, C=10)\n",
    "            svc=svm.fit(X_train, y_train)\n",
    "            training_accuracy.append(svc.score(X_train, y_train))\n",
    "            test_accuracy.append(svc.score(X_test, y_test))\n",
    "            #if alpha_run == 0.01:\n",
    "            #    coefs = svc.coef_\n",
    "             #   weighted_coefs.append(coefs)\n",
    "                \n",
    "        score_train.append(training_accuracy)\n",
    "        score_test.append(test_accuracy)\n",
    " \n",
    "\n",
    "    mean_coefs=np.mean(weighted_coefs, axis=0) #get the mean of the weighted coefficients over all the trials       \n",
    "    score = np.mean(score_test, axis=0)\n",
    "    top_predictor ='Not Now'\n",
    "   \n",
    "    return ['Nonlinear SVM ({0})'.format(reg), np.amax(score), \\\n",
    "            'C = {0}'.format(CC[np.argmax(score)]), top_predictor]\n",
    "\n",
    "\n",
    "def train_Nsvmpoly(X, y, reg):\n",
    "\n",
    "    CC = [1e-8, 1e-4, 1e-3, 1e-2, 0.1, 0.2,0.4, 0.75, 1, 1.5, 3, 5, 10, 15,  20, 100, 300, 1000, 5000]\n",
    "\n",
    "    score_train = []\n",
    "    score_test = []\n",
    "    weighted_coefs=[]\n",
    "    \n",
    "    for seed in range(Number_trials):\n",
    "        training_accuracy = []  \n",
    "        test_accuracy = []\n",
    "        X_train, X_test, y_train, y_test = train_test_split(X, y, test_size=0.25, random_state=seed)\n",
    "        for alpha_run in CC:\n",
    "            svm = SVC(kernel='poly',degree=2,coef0=1, C=alpha_run)\n",
    "            svc=svm.fit(X_train, y_train)\n",
    "            training_accuracy.append(svc.score(X_train, y_train))\n",
    "            test_accuracy.append(svc.score(X_test, y_test))\n",
    "            #if alpha_run == 0.01:\n",
    "            #    coefs = svc.coef_\n",
    "             #   weighted_coefs.append(coefs)\n",
    "                \n",
    "        score_train.append(training_accuracy)\n",
    "        score_test.append(test_accuracy)\n",
    " \n",
    "\n",
    "    mean_coefs=np.mean(weighted_coefs, axis=0) #get the mean of the weighted coefficients over all the trials       \n",
    "    score = np.mean(score_test, axis=0)\n",
    "    \n",
    "    top_predictor='Not Now'\n",
    "    return ['Nonlinear SVM ({0})'.format(reg), np.amax(score), \\\n",
    "            'C = {0}'.format(CC[np.argmax(score)]), top_predictor]\n",
    "\n",
    "def train_trees(X, y):\n",
    "    score_train = []\n",
    "    score_test = []\n",
    "    \n",
    "    for seed in range(Number_trials):\n",
    "        training_accuracy = []  \n",
    "        test_accuracy = []\n",
    "        X_train, X_test, y_train, y_test = train_test_split(X, y, test_size=0.25, random_state=seed)\n",
    "        \n",
    "        maxdepth_settings = range(1, 15)\n",
    "        \n",
    "        for depth in maxdepth_settings:   \n",
    "            reg = DecisionTreeClassifier(random_state=0, max_depth=depth) # build the model \n",
    "            reg.fit(X_train, y_train) #clf = KNeighborsClassifier(n_neighbors=n_neighbors    \n",
    "            training_accuracy.append(reg.score(X_train, y_train)) # record training set accuracy  \n",
    "            test_accuracy.append(reg.score(X_test, y_test)) # record generalization accuracy  \n",
    "            \n",
    "        score_train.append(training_accuracy)\n",
    "        score_test.append(test_accuracy)\n",
    "    \n",
    "    score = np.mean(score_test, axis=0)\n",
    "    \n",
    "    return ['Decision Trees', np.amax(score), \\\n",
    "            'Depth = {0}'.format(np.argmax(score)+1), 'Not Now']\n",
    "\n",
    "def train_forest(X, y):\n",
    "    score_train = []\n",
    "    score_test = []\n",
    "    \n",
    "    for seed in range(Number_trials):\n",
    "        training_accuracy = []  \n",
    "        test_accuracy = []\n",
    "        X_train, X_test, y_train, y_test = train_test_split(X, y, test_size=0.25, random_state=seed)\n",
    "        max_depth_settings = range(1, 10) # try max_depth from 1 to 10\n",
    "\n",
    "        for depth in max_depth_settings:   \n",
    "            forest = RandomForestClassifier(max_depth=depth, random_state=0, n_estimators=100)\n",
    "            forest.fit(X_train, y_train)\n",
    "            training_accuracy.append(forest.score(X_train, y_train)) # record training set accuracy\n",
    "            test_accuracy.append(forest.score(X_test, y_test))   # record generalization accuracy\n",
    "            \n",
    "        score_train.append(training_accuracy)\n",
    "        score_test.append(test_accuracy)\n",
    "        \n",
    "    score = np.mean(score_test, axis=0)\n",
    "    \n",
    "    return ['Random Forest', np.amax(score), \\\n",
    "            'Depth = {0}'.format(np.argmax(score)+1), 'Not Now']\n",
    "\n",
    "def train_gbm(X, y):\n",
    "    score_train = []\n",
    "    score_test = []\n",
    "    \n",
    "    for seed in range(Number_trials):\n",
    "        training_accuracy = []  \n",
    "        test_accuracy = []\n",
    "        X_train, X_test, y_train, y_test = train_test_split(X, y, test_size=0.25, random_state=seed)\n",
    "        depth_settings = range(1, 15) # try depth from 1 to 15\n",
    "        \n",
    "        for depth in depth_settings:   \n",
    "            forest = GradientBoostingClassifier(max_depth=depth, random_state=0, learning_rate=0.1)\n",
    "            forest.fit(X_train, y_train)\n",
    "            training_accuracy.append(forest.score(X_train, y_train)) # record training set accuracy\n",
    "            test_accuracy.append(forest.score(X_test, y_test))   # record generalization accuracy\n",
    "        \n",
    "        score_train.append(training_accuracy)\n",
    "        score_test.append(test_accuracy)\n",
    "        \n",
    "    score = np.mean(score_test, axis=0)\n",
    "        \n",
    "    return ['Gradient Boosted Method', np.amax(score), \\\n",
    "            'Depth = {0}'.format(np.argmax(score)+1), 'Not Now']\n",
    "        "
   ]
  },
  {
   "cell_type": "code",
   "execution_count": 43,
   "metadata": {
    "ExecuteTime": {
     "end_time": "2018-07-23T12:38:20.913982Z",
     "start_time": "2018-07-23T12:26:41.538082Z"
    }
   },
   "outputs": [
    {
     "name": "stdout",
     "output_type": "stream",
     "text": [
      "['kNN', 0.695121951219512, 'N_Neighbor = 14', 'Not Now']\n",
      "['Logistic (l2)', 0.7840243902439024, 'C = 0.75', 'sex_male']\n",
      "['Logistic (l1)', 0.7850609756097563, 'C = 0.2', 'sex_male']\n",
      "['Linear SVM (l2)', 0.7806097560975611, 'C = 0.01', 'sex_male']\n",
      "['Linear SVM (l1)', 0.786158536585366, 'C = 0.1', 'sex_male']\n"
     ]
    },
    {
     "name": "stderr",
     "output_type": "stream",
     "text": [
      "/home/jocaz/anaconda3/lib/python3.6/site-packages/numpy/core/fromnumeric.py:2957: RuntimeWarning: Mean of empty slice.\n",
      "  out=out, **kwargs)\n",
      "/home/jocaz/anaconda3/lib/python3.6/site-packages/numpy/core/_methods.py:80: RuntimeWarning: invalid value encountered in double_scalars\n",
      "  ret = ret.dtype.type(ret / rcount)\n"
     ]
    },
    {
     "name": "stdout",
     "output_type": "stream",
     "text": [
      "['Nonlinear SVM (rbf)', 0.740731707317073, 'C = 0.01', 'Not Now']\n",
      "['Decision Trees', 0.8055487804878048, 'Depth = 3', 'Not Now']\n",
      "['Random Forest', 0.8075, 'Depth = 8', 'Not Now']\n",
      "['Gradient Boosted Method', 0.8077439024390246, 'Depth = 2', 'Not Now']\n"
     ]
    }
   ],
   "source": [
    "X = final_features.drop('target', axis=1)\n",
    "y = df['target']\n",
    "\n",
    "scaler='OFF'\n",
    "\n",
    "a = train_knn(X,y)\n",
    "print(a)\n",
    "b = train_logistic(X,y,reg='l2')\n",
    "print(b)\n",
    "c = train_logistic(X,y,reg='l1')\n",
    "print(c)\n",
    "d = train_svm(X,y,reg='l2')\n",
    "print(d)\n",
    "e = train_svm(X,y,reg='l1')\n",
    "print(e)\n",
    "f = train_Nsvm(X,y,reg='rbf')\n",
    "print(f)\n",
    "g = train_trees(X,y)\n",
    "print(g)\n",
    "h = train_forest(X,y)\n",
    "print(h)\n",
    "i = train_gbm(X,y)\n",
    "print(i)"
   ]
  },
  {
   "cell_type": "code",
   "execution_count": 44,
   "metadata": {
    "ExecuteTime": {
     "end_time": "2018-07-23T12:38:21.018517Z",
     "start_time": "2018-07-23T12:38:20.931960Z"
    },
    "scrolled": true
   },
   "outputs": [
    {
     "data": {
      "text/html": [
       "<div>\n",
       "<style scoped>\n",
       "    .dataframe tbody tr th:only-of-type {\n",
       "        vertical-align: middle;\n",
       "    }\n",
       "\n",
       "    .dataframe tbody tr th {\n",
       "        vertical-align: top;\n",
       "    }\n",
       "\n",
       "    .dataframe thead th {\n",
       "        text-align: right;\n",
       "    }\n",
       "</style>\n",
       "<table border=\"1\" class=\"dataframe\">\n",
       "  <thead>\n",
       "    <tr style=\"text-align: right;\">\n",
       "      <th></th>\n",
       "      <th>Machine Learning Method</th>\n",
       "      <th>Test Accuracy</th>\n",
       "      <th>Best Parameter</th>\n",
       "      <th>Top Predictor Variable</th>\n",
       "    </tr>\n",
       "  </thead>\n",
       "  <tbody>\n",
       "    <tr>\n",
       "      <th>0</th>\n",
       "      <td>kNN</td>\n",
       "      <td>0.695122</td>\n",
       "      <td>N_Neighbor = 14</td>\n",
       "      <td>Not Now</td>\n",
       "    </tr>\n",
       "    <tr>\n",
       "      <th>1</th>\n",
       "      <td>Logistic (l2)</td>\n",
       "      <td>0.784024</td>\n",
       "      <td>C = 0.75</td>\n",
       "      <td>sex_male</td>\n",
       "    </tr>\n",
       "    <tr>\n",
       "      <th>2</th>\n",
       "      <td>Logistic (l1)</td>\n",
       "      <td>0.785061</td>\n",
       "      <td>C = 0.2</td>\n",
       "      <td>sex_male</td>\n",
       "    </tr>\n",
       "    <tr>\n",
       "      <th>3</th>\n",
       "      <td>Linear SVM (l2)</td>\n",
       "      <td>0.780610</td>\n",
       "      <td>C = 0.01</td>\n",
       "      <td>sex_male</td>\n",
       "    </tr>\n",
       "    <tr>\n",
       "      <th>4</th>\n",
       "      <td>Linear SVM (l1)</td>\n",
       "      <td>0.786159</td>\n",
       "      <td>C = 0.1</td>\n",
       "      <td>sex_male</td>\n",
       "    </tr>\n",
       "    <tr>\n",
       "      <th>5</th>\n",
       "      <td>Nonlinear SVM (rbf)</td>\n",
       "      <td>0.740732</td>\n",
       "      <td>C = 0.01</td>\n",
       "      <td>Not Now</td>\n",
       "    </tr>\n",
       "    <tr>\n",
       "      <th>6</th>\n",
       "      <td>Decision Trees</td>\n",
       "      <td>0.805549</td>\n",
       "      <td>Depth = 3</td>\n",
       "      <td>Not Now</td>\n",
       "    </tr>\n",
       "    <tr>\n",
       "      <th>7</th>\n",
       "      <td>Random Forest</td>\n",
       "      <td>0.807500</td>\n",
       "      <td>Depth = 8</td>\n",
       "      <td>Not Now</td>\n",
       "    </tr>\n",
       "    <tr>\n",
       "      <th>8</th>\n",
       "      <td>Gradient Boosted Method</td>\n",
       "      <td>0.807744</td>\n",
       "      <td>Depth = 2</td>\n",
       "      <td>Not Now</td>\n",
       "    </tr>\n",
       "  </tbody>\n",
       "</table>\n",
       "</div>"
      ],
      "text/plain": [
       "   Machine Learning Method  Test Accuracy   Best Parameter  \\\n",
       "0                      kNN       0.695122  N_Neighbor = 14   \n",
       "1            Logistic (l2)       0.784024         C = 0.75   \n",
       "2            Logistic (l1)       0.785061          C = 0.2   \n",
       "3          Linear SVM (l2)       0.780610         C = 0.01   \n",
       "4          Linear SVM (l1)       0.786159          C = 0.1   \n",
       "5      Nonlinear SVM (rbf)       0.740732         C = 0.01   \n",
       "6           Decision Trees       0.805549        Depth = 3   \n",
       "7            Random Forest       0.807500        Depth = 8   \n",
       "8  Gradient Boosted Method       0.807744        Depth = 2   \n",
       "\n",
       "  Top Predictor Variable  \n",
       "0                Not Now  \n",
       "1               sex_male  \n",
       "2               sex_male  \n",
       "3               sex_male  \n",
       "4               sex_male  \n",
       "5                Not Now  \n",
       "6                Not Now  \n",
       "7                Not Now  \n",
       "8                Not Now  "
      ]
     },
     "execution_count": 44,
     "metadata": {},
     "output_type": "execute_result"
    }
   ],
   "source": [
    "cols = ['Machine Learning Method', 'Test Accuracy', 'Best Parameter', 'Top Predictor Variable']\n",
    "df2 = pd.DataFrame(columns=cols)\n",
    "\n",
    "df2.loc[0] = a\n",
    "df2.loc[1] = b\n",
    "df2.loc[2] = c\n",
    "df2.loc[3] = d\n",
    "df2.loc[4] = e\n",
    "df2.loc[5] = f\n",
    "df2.loc[6] = g\n",
    "df2.loc[7] = h\n",
    "df2.loc[8] = i\n",
    "df2"
   ]
  },
  {
   "cell_type": "markdown",
   "metadata": {},
   "source": [
    "After feeding the data set to different machine learning classification algorithm, we can observe that the top predictor is **sex_male**. Furthermore, there are three machine learning method that exceeds the proportion chance criterion which is greater than $65.98\\%$ and these are K-Nearest Neighbor, Logistic Regression, and Linear Support Vector Machine."
   ]
  },
  {
   "cell_type": "markdown",
   "metadata": {},
   "source": [
    "### Scaling the Data\n",
    "We are implementing two types of scaler namely **MinMaxScaler** and **StandardScaler** which could improve the test accuracy of the machine learning methods used because there are differences in the units of the variable of the original data set."
   ]
  },
  {
   "cell_type": "markdown",
   "metadata": {},
   "source": [
    "**MinMaxScaler** <br>\n",
    "The data is scaled from $0$ to $1$ based on the minimum value and maximum value of each variable."
   ]
  },
  {
   "cell_type": "code",
   "execution_count": 45,
   "metadata": {
    "ExecuteTime": {
     "end_time": "2018-07-23T12:50:16.657593Z",
     "start_time": "2018-07-23T12:38:21.024131Z"
    }
   },
   "outputs": [
    {
     "name": "stdout",
     "output_type": "stream",
     "text": [
      "['kNN', 0.7959146341463417, 'N_Neighbor = 44', 'Not Now']\n",
      "['Logistic (l2)', 0.7839024390243903, 'C = 0.4', 'sex_male']\n",
      "['Logistic (l1)', 0.7831097560975607, 'C = 0.4', 'sex_male']\n",
      "['Linear SVM (l2)', 0.7846341463414634, 'C = 0.4', 'sex_male']\n",
      "['Linear SVM (l1)', 0.7845121951219513, 'C = 0.4', 'sex_male']\n"
     ]
    },
    {
     "name": "stderr",
     "output_type": "stream",
     "text": [
      "/home/jocaz/anaconda3/lib/python3.6/site-packages/numpy/core/fromnumeric.py:2957: RuntimeWarning: Mean of empty slice.\n",
      "  out=out, **kwargs)\n",
      "/home/jocaz/anaconda3/lib/python3.6/site-packages/numpy/core/_methods.py:80: RuntimeWarning: invalid value encountered in double_scalars\n",
      "  ret = ret.dtype.type(ret / rcount)\n"
     ]
    },
    {
     "name": "stdout",
     "output_type": "stream",
     "text": [
      "['Nonlinear SVM (rbf)', 0.8051829268292682, 'C = 1', 'Not Now']\n",
      "['Decision Trees', 0.8055487804878048, 'Depth = 3', 'Not Now']\n",
      "['Random Forest', 0.807378048780488, 'Depth = 8', 'Not Now']\n",
      "['Gradient Boosted Method', 0.8077439024390246, 'Depth = 2', 'Not Now']\n",
      "CPU times: user 11min 17s, sys: 6.43 s, total: 11min 23s\n",
      "Wall time: 11min 55s\n"
     ]
    }
   ],
   "source": [
    "%%time\n",
    "\n",
    "X = final_features.drop('target', axis=1)\n",
    "dummy2=X\n",
    "y = df['target']\n",
    "\n",
    "scaler='OFF'\n",
    "\n",
    "sscaler = MinMaxScaler()\n",
    "X = sscaler.fit_transform(X)\n",
    "X = pd.DataFrame(X, columns=dummy2.columns)\n",
    "#X.head()\n",
    "\n",
    "a = train_knn(X,y)\n",
    "print(a)\n",
    "b = train_logistic(X,y,reg='l2')\n",
    "print(b)\n",
    "c = train_logistic(X,y,reg='l1')\n",
    "print(c)\n",
    "d = train_svm(X,y,reg='l2')\n",
    "print(d)\n",
    "e = train_svm(X,y,reg='l1')\n",
    "print(e)\n",
    "f = train_Nsvm(X,y,reg='rbf')\n",
    "print(f)\n",
    "g = train_trees(X,y)\n",
    "print(g)\n",
    "h = train_forest(X,y)\n",
    "print(h)\n",
    "i = train_gbm(X,y)\n",
    "print(i)"
   ]
  },
  {
   "cell_type": "code",
   "execution_count": 46,
   "metadata": {
    "ExecuteTime": {
     "end_time": "2018-07-23T12:50:16.725895Z",
     "start_time": "2018-07-23T12:50:16.660396Z"
    }
   },
   "outputs": [
    {
     "data": {
      "text/html": [
       "<div>\n",
       "<style scoped>\n",
       "    .dataframe tbody tr th:only-of-type {\n",
       "        vertical-align: middle;\n",
       "    }\n",
       "\n",
       "    .dataframe tbody tr th {\n",
       "        vertical-align: top;\n",
       "    }\n",
       "\n",
       "    .dataframe thead th {\n",
       "        text-align: right;\n",
       "    }\n",
       "</style>\n",
       "<table border=\"1\" class=\"dataframe\">\n",
       "  <thead>\n",
       "    <tr style=\"text-align: right;\">\n",
       "      <th></th>\n",
       "      <th>Machine Learning Method</th>\n",
       "      <th>Test Accuracy</th>\n",
       "      <th>Best Parameter</th>\n",
       "      <th>Top Predictor Variable</th>\n",
       "    </tr>\n",
       "  </thead>\n",
       "  <tbody>\n",
       "    <tr>\n",
       "      <th>0</th>\n",
       "      <td>kNN</td>\n",
       "      <td>0.795915</td>\n",
       "      <td>N_Neighbor = 44</td>\n",
       "      <td>Not Now</td>\n",
       "    </tr>\n",
       "    <tr>\n",
       "      <th>1</th>\n",
       "      <td>Logistic (l2)</td>\n",
       "      <td>0.783902</td>\n",
       "      <td>C = 0.4</td>\n",
       "      <td>sex_male</td>\n",
       "    </tr>\n",
       "    <tr>\n",
       "      <th>2</th>\n",
       "      <td>Logistic (l1)</td>\n",
       "      <td>0.783110</td>\n",
       "      <td>C = 0.4</td>\n",
       "      <td>sex_male</td>\n",
       "    </tr>\n",
       "    <tr>\n",
       "      <th>3</th>\n",
       "      <td>Linear SVM (l2)</td>\n",
       "      <td>0.784634</td>\n",
       "      <td>C = 0.4</td>\n",
       "      <td>sex_male</td>\n",
       "    </tr>\n",
       "    <tr>\n",
       "      <th>4</th>\n",
       "      <td>Linear SVM (l1)</td>\n",
       "      <td>0.784512</td>\n",
       "      <td>C = 0.4</td>\n",
       "      <td>sex_male</td>\n",
       "    </tr>\n",
       "    <tr>\n",
       "      <th>5</th>\n",
       "      <td>Nonlinear SVM (rbf)</td>\n",
       "      <td>0.805183</td>\n",
       "      <td>C = 1</td>\n",
       "      <td>Not Now</td>\n",
       "    </tr>\n",
       "    <tr>\n",
       "      <th>6</th>\n",
       "      <td>Decision Trees</td>\n",
       "      <td>0.805549</td>\n",
       "      <td>Depth = 3</td>\n",
       "      <td>Not Now</td>\n",
       "    </tr>\n",
       "    <tr>\n",
       "      <th>7</th>\n",
       "      <td>Random Forest</td>\n",
       "      <td>0.807378</td>\n",
       "      <td>Depth = 8</td>\n",
       "      <td>Not Now</td>\n",
       "    </tr>\n",
       "    <tr>\n",
       "      <th>8</th>\n",
       "      <td>Gradient Boosted Method</td>\n",
       "      <td>0.807744</td>\n",
       "      <td>Depth = 2</td>\n",
       "      <td>Not Now</td>\n",
       "    </tr>\n",
       "  </tbody>\n",
       "</table>\n",
       "</div>"
      ],
      "text/plain": [
       "   Machine Learning Method  Test Accuracy   Best Parameter  \\\n",
       "0                      kNN       0.795915  N_Neighbor = 44   \n",
       "1            Logistic (l2)       0.783902          C = 0.4   \n",
       "2            Logistic (l1)       0.783110          C = 0.4   \n",
       "3          Linear SVM (l2)       0.784634          C = 0.4   \n",
       "4          Linear SVM (l1)       0.784512          C = 0.4   \n",
       "5      Nonlinear SVM (rbf)       0.805183            C = 1   \n",
       "6           Decision Trees       0.805549        Depth = 3   \n",
       "7            Random Forest       0.807378        Depth = 8   \n",
       "8  Gradient Boosted Method       0.807744        Depth = 2   \n",
       "\n",
       "  Top Predictor Variable  \n",
       "0                Not Now  \n",
       "1               sex_male  \n",
       "2               sex_male  \n",
       "3               sex_male  \n",
       "4               sex_male  \n",
       "5                Not Now  \n",
       "6                Not Now  \n",
       "7                Not Now  \n",
       "8                Not Now  "
      ]
     },
     "execution_count": 46,
     "metadata": {},
     "output_type": "execute_result"
    }
   ],
   "source": [
    "cols = ['Machine Learning Method', 'Test Accuracy', 'Best Parameter', 'Top Predictor Variable']\n",
    "df2 = pd.DataFrame(columns=cols)\n",
    "\n",
    "df2.loc[0] = a\n",
    "df2.loc[1] = b\n",
    "df2.loc[2] = c\n",
    "df2.loc[3] = d\n",
    "df2.loc[4] = e\n",
    "df2.loc[5] = f\n",
    "df2.loc[6] = g\n",
    "df2.loc[7] = h\n",
    "df2.loc[8] = i\n",
    "df2"
   ]
  },
  {
   "cell_type": "markdown",
   "metadata": {},
   "source": [
    "**StandardScaler** <br>\n",
    "The data is scaled based on the mean and standard deviation of the each variable."
   ]
  },
  {
   "cell_type": "code",
   "execution_count": 47,
   "metadata": {
    "ExecuteTime": {
     "end_time": "2018-07-23T13:01:36.662311Z",
     "start_time": "2018-07-23T12:50:16.735884Z"
    },
    "scrolled": true
   },
   "outputs": [
    {
     "name": "stdout",
     "output_type": "stream",
     "text": [
      "['kNN', 0.8043292682926829, 'N_Neighbor = 12', 'Not Now']\n",
      "['Logistic (l2)', 0.7828048780487806, 'C = 3', 'sex_male']\n",
      "['Logistic (l1)', 0.7832926829268289, 'C = 0.1', 'sex_male']\n",
      "['Linear SVM (l2)', 0.784390243902439, 'C = 0.01', 'sex_male']\n",
      "['Linear SVM (l1)', 0.7850609756097561, 'C = 0.1', 'sex_male']\n"
     ]
    },
    {
     "name": "stderr",
     "output_type": "stream",
     "text": [
      "/home/jocaz/anaconda3/lib/python3.6/site-packages/numpy/core/fromnumeric.py:2957: RuntimeWarning: Mean of empty slice.\n",
      "  out=out, **kwargs)\n",
      "/home/jocaz/anaconda3/lib/python3.6/site-packages/numpy/core/_methods.py:80: RuntimeWarning: invalid value encountered in double_scalars\n",
      "  ret = ret.dtype.type(ret / rcount)\n"
     ]
    },
    {
     "name": "stdout",
     "output_type": "stream",
     "text": [
      "['Nonlinear SVM (rbf)', 0.8028048780487805, 'C = 0.1', 'Not Now']\n",
      "['Decision Trees', 0.8057926829268293, 'Depth = 3', 'Not Now']\n",
      "['Random Forest', 0.8076829268292685, 'Depth = 8', 'Not Now']\n",
      "['Gradient Boosted Method', 0.8078048780487807, 'Depth = 4', 'Not Now']\n",
      "CPU times: user 11min 12s, sys: 1.8 s, total: 11min 14s\n",
      "Wall time: 11min 19s\n"
     ]
    }
   ],
   "source": [
    "%%time\n",
    "\n",
    "X = final_features.drop('target', axis=1)\n",
    "dummy2=X\n",
    "y = df['target']\n",
    "\n",
    "scaler='OFF'\n",
    "\n",
    "sscaler = StandardScaler()\n",
    "X = sscaler.fit_transform(X)\n",
    "X = pd.DataFrame(X, columns=dummy2.columns)\n",
    "#X.head()\n",
    "\n",
    "a = train_knn(X,y)\n",
    "print(a)\n",
    "b = train_logistic(X,y,reg='l2')\n",
    "print(b)\n",
    "c = train_logistic(X,y,reg='l1')\n",
    "print(c)\n",
    "d = train_svm(X,y,reg='l2')\n",
    "print(d)\n",
    "e = train_svm(X,y,reg='l1')\n",
    "print(e)\n",
    "f = train_Nsvm(X,y,reg='rbf')\n",
    "print(f)\n",
    "g = train_trees(X,y)\n",
    "print(g)\n",
    "h = train_forest(X,y)\n",
    "print(h)\n",
    "i = train_gbm(X,y)\n",
    "print(i)"
   ]
  },
  {
   "cell_type": "code",
   "execution_count": 48,
   "metadata": {
    "ExecuteTime": {
     "end_time": "2018-07-23T13:01:36.797354Z",
     "start_time": "2018-07-23T13:01:36.666955Z"
    },
    "scrolled": true
   },
   "outputs": [
    {
     "data": {
      "text/html": [
       "<div>\n",
       "<style scoped>\n",
       "    .dataframe tbody tr th:only-of-type {\n",
       "        vertical-align: middle;\n",
       "    }\n",
       "\n",
       "    .dataframe tbody tr th {\n",
       "        vertical-align: top;\n",
       "    }\n",
       "\n",
       "    .dataframe thead th {\n",
       "        text-align: right;\n",
       "    }\n",
       "</style>\n",
       "<table border=\"1\" class=\"dataframe\">\n",
       "  <thead>\n",
       "    <tr style=\"text-align: right;\">\n",
       "      <th></th>\n",
       "      <th>Machine Learning Method</th>\n",
       "      <th>Test Accuracy</th>\n",
       "      <th>Best Parameter</th>\n",
       "      <th>Top Predictor Variable</th>\n",
       "    </tr>\n",
       "  </thead>\n",
       "  <tbody>\n",
       "    <tr>\n",
       "      <th>0</th>\n",
       "      <td>kNN</td>\n",
       "      <td>0.804329</td>\n",
       "      <td>N_Neighbor = 12</td>\n",
       "      <td>Not Now</td>\n",
       "    </tr>\n",
       "    <tr>\n",
       "      <th>1</th>\n",
       "      <td>Logistic (l2)</td>\n",
       "      <td>0.782805</td>\n",
       "      <td>C = 3</td>\n",
       "      <td>sex_male</td>\n",
       "    </tr>\n",
       "    <tr>\n",
       "      <th>2</th>\n",
       "      <td>Logistic (l1)</td>\n",
       "      <td>0.783293</td>\n",
       "      <td>C = 0.1</td>\n",
       "      <td>sex_male</td>\n",
       "    </tr>\n",
       "    <tr>\n",
       "      <th>3</th>\n",
       "      <td>Linear SVM (l2)</td>\n",
       "      <td>0.784390</td>\n",
       "      <td>C = 0.01</td>\n",
       "      <td>sex_male</td>\n",
       "    </tr>\n",
       "    <tr>\n",
       "      <th>4</th>\n",
       "      <td>Linear SVM (l1)</td>\n",
       "      <td>0.785061</td>\n",
       "      <td>C = 0.1</td>\n",
       "      <td>sex_male</td>\n",
       "    </tr>\n",
       "    <tr>\n",
       "      <th>5</th>\n",
       "      <td>Nonlinear SVM (rbf)</td>\n",
       "      <td>0.802805</td>\n",
       "      <td>C = 0.1</td>\n",
       "      <td>Not Now</td>\n",
       "    </tr>\n",
       "    <tr>\n",
       "      <th>6</th>\n",
       "      <td>Decision Trees</td>\n",
       "      <td>0.805793</td>\n",
       "      <td>Depth = 3</td>\n",
       "      <td>Not Now</td>\n",
       "    </tr>\n",
       "    <tr>\n",
       "      <th>7</th>\n",
       "      <td>Random Forest</td>\n",
       "      <td>0.807683</td>\n",
       "      <td>Depth = 8</td>\n",
       "      <td>Not Now</td>\n",
       "    </tr>\n",
       "    <tr>\n",
       "      <th>8</th>\n",
       "      <td>Gradient Boosted Method</td>\n",
       "      <td>0.807805</td>\n",
       "      <td>Depth = 4</td>\n",
       "      <td>Not Now</td>\n",
       "    </tr>\n",
       "  </tbody>\n",
       "</table>\n",
       "</div>"
      ],
      "text/plain": [
       "   Machine Learning Method  Test Accuracy   Best Parameter  \\\n",
       "0                      kNN       0.804329  N_Neighbor = 12   \n",
       "1            Logistic (l2)       0.782805            C = 3   \n",
       "2            Logistic (l1)       0.783293          C = 0.1   \n",
       "3          Linear SVM (l2)       0.784390         C = 0.01   \n",
       "4          Linear SVM (l1)       0.785061          C = 0.1   \n",
       "5      Nonlinear SVM (rbf)       0.802805          C = 0.1   \n",
       "6           Decision Trees       0.805793        Depth = 3   \n",
       "7            Random Forest       0.807683        Depth = 8   \n",
       "8  Gradient Boosted Method       0.807805        Depth = 4   \n",
       "\n",
       "  Top Predictor Variable  \n",
       "0                Not Now  \n",
       "1               sex_male  \n",
       "2               sex_male  \n",
       "3               sex_male  \n",
       "4               sex_male  \n",
       "5                Not Now  \n",
       "6                Not Now  \n",
       "7                Not Now  \n",
       "8                Not Now  "
      ]
     },
     "execution_count": 48,
     "metadata": {},
     "output_type": "execute_result"
    }
   ],
   "source": [
    "cols = ['Machine Learning Method', 'Test Accuracy', 'Best Parameter', 'Top Predictor Variable']\n",
    "df2 = pd.DataFrame(columns=cols)\n",
    "\n",
    "df2.loc[0] = a\n",
    "df2.loc[1] = b\n",
    "df2.loc[2] = c\n",
    "df2.loc[3] = d\n",
    "df2.loc[4] = e\n",
    "df2.loc[5] = f\n",
    "df2.loc[6] = g\n",
    "df2.loc[7] = h\n",
    "df2.loc[8] = i\n",
    "df2"
   ]
  },
  {
   "cell_type": "markdown",
   "metadata": {},
   "source": [
    "Comparing the two scaling that we implemented, we are considering the **StandardScaler** since the difference in the test accuracy between is nearly negligible however the parameters used in different machine learning algorithm is simpler rather than **MinMaxScaler**."
   ]
  },
  {
   "cell_type": "markdown",
   "metadata": {},
   "source": [
    "### Results and Discussion\n",
    "- **K-Nearest Neighbor** <br>\n",
    "The target variable is predicted by the nearest k number of points in the n-dimensional plane. The result shows that the optimal number of neighbors is $k=12$ which means that it calculates the prediction of the test data by considering the 12 nearest neighbor in the training data. K-Nearest Neighbor has test accuracy of $80.43\\%$\n",
    "- **Logistic Regression (L2 regularization)** <br>\n",
    "In logistic regression, the state of the target variable is determined using the sigmoid function. The logistic regression uses sigmoid function because the values would be trap to either 0 or 1 if we are not using sigmoid function. The parameter **C** determines the strength of the regularization to be applied on the model. The result shows that the optimal value for **C** is equal to $3$. Logistic Regression (L2 regularization) has test accuracy of $78.28\\%$.\n",
    "- **Logistic Regression (L1 regularization)** <br>\n",
    "The only difference between the previous one is the one the data is regularize. With L2 regularization, we are considering the Euclidean distance. On the other hand, with L1 regularization, we are considering the Manhanttan distance. The result show that the optimal value for **C** is equal to $0.1$. Logistic Regression (L1 regularization) has test accuracy of $78.33\\%$.\n",
    "- **Linear Support Vector Machine** <br>\n",
    "In Linear SVM, the main objective is to optimize the margin, distance between the separating hyperplane, of the target variable that we are trying to predict. The parameter **C** is used to control the penalty for misclassification. For L2 regularization, the test accuracy is equal to $78.44\\%$ with $C=0.01$. While for L1 regularization, the test accuracy is equal to $78.51\\%$ with $C=0.1$.\n",
    "- **Nonlinear Support Vector Machine** <br>\n",
    "The only difference between linear and nonlinear support vector machine is the kernel to be used in separating the target variable that we are predicting. Instead of using a line, nonlinear SVM uses radial basis function (RBF) in optimizing the margin between the data points. The result show that the test accuracy for nonlinear SVM is equal to $80.28\\%$ with $C=0.1$.\n",
    "- **Decision Trees** <br>\n",
    "Decision trees is a network that contains the heirarchy of each predictor in determining the correct classification for the target variable. The top node of the decision tree is the top predictor and the number of layer before arriving into the classification is called depth. According to the result, the test accuracy is equal to $80.58\\%$ with $depth=3$.\n",
    "- **Random Forest** <br>\n",
    "Random forest is used in order to remove the bias of decision in overfitting. The idea behind random forest is creating trees and reduce the amount of overfitting by getting the mean of the result of the decision trees. The result shows that the accuracy is equal to $80.77\\%$ with max depth for the decision trees equal to $8$.\n",
    "- **Gradient Boosting Method** <br>\n",
    "Like random forest, Gradient Boosting Method combines multiple decision trees in predicting the classfication of the target variable. However, gradient boosting method has a parameter *learning rate* which tries to correct the mistakes of the previous tree in order to yield a better test accuracy. The result show that the test accuracy is equal to $80.78\\%$ with max depth for the decision trees equal to $4$."
   ]
  },
  {
   "cell_type": "markdown",
   "metadata": {},
   "source": [
    "### Acknowledgement\n",
    "I would like to acknowledge Prof. Chris Monterola for providing the templates for the codes in implementing the machine learning classification algorithm and teaching the concepts applied in different machine learning algorithm. I would also like to acknowledge Jude Teves for sharing the automated system named JUDAS that help in minimizing the amount of work to be done in finding good results for this notebook."
   ]
  }
 ],
 "metadata": {
  "kernelspec": {
   "display_name": "Python 3",
   "language": "python",
   "name": "python3"
  },
  "language_info": {
   "codemirror_mode": {
    "name": "ipython",
    "version": 3
   },
   "file_extension": ".py",
   "mimetype": "text/x-python",
   "name": "python",
   "nbconvert_exporter": "python",
   "pygments_lexer": "ipython3",
   "version": "3.7.3"
  }
 },
 "nbformat": 4,
 "nbformat_minor": 2
}
