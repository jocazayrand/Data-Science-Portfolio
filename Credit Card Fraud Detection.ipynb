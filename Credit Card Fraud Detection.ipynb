{
 "cells": [
  {
   "cell_type": "markdown",
   "metadata": {},
   "source": [
    "#### Data. Code. Chill."
   ]
  },
  {
   "cell_type": "markdown",
   "metadata": {},
   "source": [
    "## Credit Card Fraud Dataset\n",
    "__Prepared by:__ Jocaz Entico, Bingbong Recto, Rey Tugade"
   ]
  },
  {
   "cell_type": "markdown",
   "metadata": {},
   "source": [
    "### Imports"
   ]
  },
  {
   "cell_type": "code",
   "execution_count": 1,
   "metadata": {
    "ExecuteTime": {
     "end_time": "2018-06-08T14:55:37.848017Z",
     "start_time": "2018-06-08T14:55:22.731876Z"
    }
   },
   "outputs": [],
   "source": [
    "from collections import Counter\n",
    "import matplotlib.pyplot as plt\n",
    "%matplotlib inline\n",
    "import numpy as np\n",
    "import pandas as pd\n",
    "import pylab as plot\n",
    "from sklearn.neighbors import KNeighborsClassifier\n",
    "from sklearn.model_selection import train_test_split"
   ]
  },
  {
   "cell_type": "markdown",
   "metadata": {},
   "source": [
    "### Data Description\n",
    "__Context__\n",
    "\n",
    "It is important that credit card companies are able to recognize fraudulent credit card transactions so that customers are not charged for items that they did not purchase. <br><br>\n",
    "__Content__\n",
    "\n",
    "The datasets contains transactions made by credit cards in September 2013 by european cardholders. This dataset presents transactions that occurred in two days, where we have 492 frauds out of 284,807 transactions. The dataset is highly unbalanced, the positive class (frauds) account for 0.172% of all transactions.\n",
    "\n",
    "It contains only numerical input variables which are the result of a PCA transformation. Unfortunately, due to confidentiality issues, we cannot provide the original features and more background information about the data. Features V1, V2, ... V28 are the principal components obtained with PCA, the only features which have not been transformed with PCA are 'Time' and 'Amount'. Feature 'Time' contains the seconds elapsed between each transaction and the first transaction in the dataset. The feature 'Amount' is the transaction Amount, this feature can be used for example-dependant cost-senstive learning. Feature 'Class' is the response variable and it takes value 1 in case of fraud and 0 otherwise. <br><br>\n",
    "__Inspiration__\n",
    "\n",
    "Identify fraudulent credit card transactions.\n",
    "\n",
    "Given the class imbalance ratio, we recommend measuring the accuracy using the Area Under the Precision-Recall Curve (AUPRC). Confusion matrix accuracy is not meaningful for unbalanced classification. <br><br>\n",
    "__Acknowledgements__\n",
    "\n",
    "The dataset has been collected and analysed during a research collaboration of Worldline and the Machine Learning Group (http://mlg.ulb.ac.be) of ULB (Université Libre de Bruxelles) on big data mining and fraud detection. More details on current and past projects on related topics are available on http://mlg.ulb.ac.be/BruFence and http://mlg.ulb.ac.be/ARTML\n",
    "\n",
    "Please cite: Andrea Dal Pozzolo, Olivier Caelen, Reid A. Johnson and Gianluca Bontempi. Calibrating Probability with Undersampling for Unbalanced Classification. In Symposium on Computational Intelligence and Data Mining (CIDM), IEEE, 2015"
   ]
  },
  {
   "cell_type": "markdown",
   "metadata": {},
   "source": [
    "### Loading data"
   ]
  },
  {
   "cell_type": "code",
   "execution_count": 2,
   "metadata": {
    "ExecuteTime": {
     "end_time": "2018-06-08T14:55:43.594461Z",
     "start_time": "2018-06-08T14:55:37.860153Z"
    }
   },
   "outputs": [],
   "source": [
    "df_creditcard = pd.read_csv('creditcard.csv')"
   ]
  },
  {
   "cell_type": "code",
   "execution_count": 3,
   "metadata": {
    "ExecuteTime": {
     "end_time": "2018-06-08T14:55:43.610049Z",
     "start_time": "2018-06-08T14:55:43.598181Z"
    }
   },
   "outputs": [
    {
     "data": {
      "text/plain": [
       "Index(['Time', 'V1', 'V2', 'V3', 'V4', 'V5', 'V6', 'V7', 'V8', 'V9', 'V10',\n",
       "       'V11', 'V12', 'V13', 'V14', 'V15', 'V16', 'V17', 'V18', 'V19', 'V20',\n",
       "       'V21', 'V22', 'V23', 'V24', 'V25', 'V26', 'V27', 'V28', 'Amount',\n",
       "       'Class'],\n",
       "      dtype='object')"
      ]
     },
     "execution_count": 3,
     "metadata": {},
     "output_type": "execute_result"
    }
   ],
   "source": [
    "df_creditcard.columns"
   ]
  },
  {
   "cell_type": "code",
   "execution_count": 4,
   "metadata": {
    "ExecuteTime": {
     "end_time": "2018-06-08T14:55:43.732074Z",
     "start_time": "2018-06-08T14:55:43.613819Z"
    }
   },
   "outputs": [
    {
     "data": {
      "text/plain": [
       "{0, 1}"
      ]
     },
     "execution_count": 4,
     "metadata": {},
     "output_type": "execute_result"
    }
   ],
   "source": [
    "set(df_creditcard['Class'].values.ravel())"
   ]
  },
  {
   "cell_type": "code",
   "execution_count": 5,
   "metadata": {
    "ExecuteTime": {
     "end_time": "2018-06-08T14:55:43.905817Z",
     "start_time": "2018-06-08T14:55:43.747656Z"
    }
   },
   "outputs": [
    {
     "data": {
      "text/html": [
       "<div>\n",
       "<style scoped>\n",
       "    .dataframe tbody tr th:only-of-type {\n",
       "        vertical-align: middle;\n",
       "    }\n",
       "\n",
       "    .dataframe tbody tr th {\n",
       "        vertical-align: top;\n",
       "    }\n",
       "\n",
       "    .dataframe thead th {\n",
       "        text-align: right;\n",
       "    }\n",
       "</style>\n",
       "<table border=\"1\" class=\"dataframe\">\n",
       "  <thead>\n",
       "    <tr style=\"text-align: right;\">\n",
       "      <th></th>\n",
       "      <th>Time</th>\n",
       "      <th>V1</th>\n",
       "      <th>V2</th>\n",
       "      <th>V3</th>\n",
       "      <th>V4</th>\n",
       "      <th>V5</th>\n",
       "      <th>V6</th>\n",
       "      <th>V7</th>\n",
       "      <th>V8</th>\n",
       "      <th>V9</th>\n",
       "      <th>...</th>\n",
       "      <th>V21</th>\n",
       "      <th>V22</th>\n",
       "      <th>V23</th>\n",
       "      <th>V24</th>\n",
       "      <th>V25</th>\n",
       "      <th>V26</th>\n",
       "      <th>V27</th>\n",
       "      <th>V28</th>\n",
       "      <th>Amount</th>\n",
       "      <th>Class</th>\n",
       "    </tr>\n",
       "  </thead>\n",
       "  <tbody>\n",
       "    <tr>\n",
       "      <th>0</th>\n",
       "      <td>0.0</td>\n",
       "      <td>-1.359807</td>\n",
       "      <td>-0.072781</td>\n",
       "      <td>2.536347</td>\n",
       "      <td>1.378155</td>\n",
       "      <td>-0.338321</td>\n",
       "      <td>0.462388</td>\n",
       "      <td>0.239599</td>\n",
       "      <td>0.098698</td>\n",
       "      <td>0.363787</td>\n",
       "      <td>...</td>\n",
       "      <td>-0.018307</td>\n",
       "      <td>0.277838</td>\n",
       "      <td>-0.110474</td>\n",
       "      <td>0.066928</td>\n",
       "      <td>0.128539</td>\n",
       "      <td>-0.189115</td>\n",
       "      <td>0.133558</td>\n",
       "      <td>-0.021053</td>\n",
       "      <td>149.62</td>\n",
       "      <td>0</td>\n",
       "    </tr>\n",
       "    <tr>\n",
       "      <th>1</th>\n",
       "      <td>0.0</td>\n",
       "      <td>1.191857</td>\n",
       "      <td>0.266151</td>\n",
       "      <td>0.166480</td>\n",
       "      <td>0.448154</td>\n",
       "      <td>0.060018</td>\n",
       "      <td>-0.082361</td>\n",
       "      <td>-0.078803</td>\n",
       "      <td>0.085102</td>\n",
       "      <td>-0.255425</td>\n",
       "      <td>...</td>\n",
       "      <td>-0.225775</td>\n",
       "      <td>-0.638672</td>\n",
       "      <td>0.101288</td>\n",
       "      <td>-0.339846</td>\n",
       "      <td>0.167170</td>\n",
       "      <td>0.125895</td>\n",
       "      <td>-0.008983</td>\n",
       "      <td>0.014724</td>\n",
       "      <td>2.69</td>\n",
       "      <td>0</td>\n",
       "    </tr>\n",
       "    <tr>\n",
       "      <th>2</th>\n",
       "      <td>1.0</td>\n",
       "      <td>-1.358354</td>\n",
       "      <td>-1.340163</td>\n",
       "      <td>1.773209</td>\n",
       "      <td>0.379780</td>\n",
       "      <td>-0.503198</td>\n",
       "      <td>1.800499</td>\n",
       "      <td>0.791461</td>\n",
       "      <td>0.247676</td>\n",
       "      <td>-1.514654</td>\n",
       "      <td>...</td>\n",
       "      <td>0.247998</td>\n",
       "      <td>0.771679</td>\n",
       "      <td>0.909412</td>\n",
       "      <td>-0.689281</td>\n",
       "      <td>-0.327642</td>\n",
       "      <td>-0.139097</td>\n",
       "      <td>-0.055353</td>\n",
       "      <td>-0.059752</td>\n",
       "      <td>378.66</td>\n",
       "      <td>0</td>\n",
       "    </tr>\n",
       "    <tr>\n",
       "      <th>3</th>\n",
       "      <td>1.0</td>\n",
       "      <td>-0.966272</td>\n",
       "      <td>-0.185226</td>\n",
       "      <td>1.792993</td>\n",
       "      <td>-0.863291</td>\n",
       "      <td>-0.010309</td>\n",
       "      <td>1.247203</td>\n",
       "      <td>0.237609</td>\n",
       "      <td>0.377436</td>\n",
       "      <td>-1.387024</td>\n",
       "      <td>...</td>\n",
       "      <td>-0.108300</td>\n",
       "      <td>0.005274</td>\n",
       "      <td>-0.190321</td>\n",
       "      <td>-1.175575</td>\n",
       "      <td>0.647376</td>\n",
       "      <td>-0.221929</td>\n",
       "      <td>0.062723</td>\n",
       "      <td>0.061458</td>\n",
       "      <td>123.50</td>\n",
       "      <td>0</td>\n",
       "    </tr>\n",
       "    <tr>\n",
       "      <th>4</th>\n",
       "      <td>2.0</td>\n",
       "      <td>-1.158233</td>\n",
       "      <td>0.877737</td>\n",
       "      <td>1.548718</td>\n",
       "      <td>0.403034</td>\n",
       "      <td>-0.407193</td>\n",
       "      <td>0.095921</td>\n",
       "      <td>0.592941</td>\n",
       "      <td>-0.270533</td>\n",
       "      <td>0.817739</td>\n",
       "      <td>...</td>\n",
       "      <td>-0.009431</td>\n",
       "      <td>0.798278</td>\n",
       "      <td>-0.137458</td>\n",
       "      <td>0.141267</td>\n",
       "      <td>-0.206010</td>\n",
       "      <td>0.502292</td>\n",
       "      <td>0.219422</td>\n",
       "      <td>0.215153</td>\n",
       "      <td>69.99</td>\n",
       "      <td>0</td>\n",
       "    </tr>\n",
       "  </tbody>\n",
       "</table>\n",
       "<p>5 rows × 31 columns</p>\n",
       "</div>"
      ],
      "text/plain": [
       "   Time        V1        V2        V3        V4        V5        V6        V7  \\\n",
       "0   0.0 -1.359807 -0.072781  2.536347  1.378155 -0.338321  0.462388  0.239599   \n",
       "1   0.0  1.191857  0.266151  0.166480  0.448154  0.060018 -0.082361 -0.078803   \n",
       "2   1.0 -1.358354 -1.340163  1.773209  0.379780 -0.503198  1.800499  0.791461   \n",
       "3   1.0 -0.966272 -0.185226  1.792993 -0.863291 -0.010309  1.247203  0.237609   \n",
       "4   2.0 -1.158233  0.877737  1.548718  0.403034 -0.407193  0.095921  0.592941   \n",
       "\n",
       "         V8        V9  ...         V21       V22       V23       V24  \\\n",
       "0  0.098698  0.363787  ...   -0.018307  0.277838 -0.110474  0.066928   \n",
       "1  0.085102 -0.255425  ...   -0.225775 -0.638672  0.101288 -0.339846   \n",
       "2  0.247676 -1.514654  ...    0.247998  0.771679  0.909412 -0.689281   \n",
       "3  0.377436 -1.387024  ...   -0.108300  0.005274 -0.190321 -1.175575   \n",
       "4 -0.270533  0.817739  ...   -0.009431  0.798278 -0.137458  0.141267   \n",
       "\n",
       "        V25       V26       V27       V28  Amount  Class  \n",
       "0  0.128539 -0.189115  0.133558 -0.021053  149.62      0  \n",
       "1  0.167170  0.125895 -0.008983  0.014724    2.69      0  \n",
       "2 -0.327642 -0.139097 -0.055353 -0.059752  378.66      0  \n",
       "3  0.647376 -0.221929  0.062723  0.061458  123.50      0  \n",
       "4 -0.206010  0.502292  0.219422  0.215153   69.99      0  \n",
       "\n",
       "[5 rows x 31 columns]"
      ]
     },
     "execution_count": 5,
     "metadata": {},
     "output_type": "execute_result"
    }
   ],
   "source": [
    "df_creditcard.head()"
   ]
  },
  {
   "cell_type": "code",
   "execution_count": 6,
   "metadata": {
    "ExecuteTime": {
     "end_time": "2018-06-08T14:55:45.568813Z",
     "start_time": "2018-06-08T14:55:43.910609Z"
    },
    "scrolled": true
   },
   "outputs": [
    {
     "name": "stdout",
     "output_type": "stream",
     "text": [
      "Population per class: \n",
      "        0\n",
      "0  284315\n",
      "1     492\n",
      "1.25 * Proportion Chance Criterion: 124.568874643996%\n"
     ]
    },
    {
     "data": {
      "image/png": "[encoded data removed]",
      "text/plain": [
       "<matplotlib.figure.Figure at 0x7f8b67d81748>"
      ]
     },
     "metadata": {},
     "output_type": "display_data"
    }
   ],
   "source": [
    "# from collections import Counter\n",
    "state_counts = Counter(df_creditcard['Class'])\n",
    "df_state = pd.DataFrame.from_dict(state_counts, orient='index')\n",
    "df_state.plot(kind='bar', legend=False)\n",
    "\n",
    "num=(df_state[0]/df_state[0].sum())**2\n",
    "print(\"Population per class: \\n{}\".format(df_state))\n",
    "print(\"1.25 * Proportion Chance Criterion: {}%\".format(1.25*100*num.sum()))"
   ]
  },
  {
   "cell_type": "markdown",
   "metadata": {},
   "source": [
    "In this dataset, we have __284,315__ non-fraudulent transactions and __492__ fraudulent transactions. We can observe the massive imbalance in occurence of two cases. For simplification, we will try to subsample the non-fraudulent transactions."
   ]
  },
  {
   "cell_type": "code",
   "execution_count": 7,
   "metadata": {
    "ExecuteTime": {
     "end_time": "2018-06-08T14:55:45.871556Z",
     "start_time": "2018-06-08T14:55:45.578252Z"
    }
   },
   "outputs": [],
   "source": [
    "df_regular = df_creditcard[df_creditcard['Class'] == 0].sample(n=492)"
   ]
  },
  {
   "cell_type": "code",
   "execution_count": 8,
   "metadata": {
    "ExecuteTime": {
     "end_time": "2018-06-08T14:55:45.903019Z",
     "start_time": "2018-06-08T14:55:45.884887Z"
    }
   },
   "outputs": [],
   "source": [
    "df_fraud = df_creditcard[df_creditcard['Class'] == 1]"
   ]
  },
  {
   "cell_type": "code",
   "execution_count": 9,
   "metadata": {
    "ExecuteTime": {
     "end_time": "2018-06-08T14:55:45.939779Z",
     "start_time": "2018-06-08T14:55:45.917430Z"
    }
   },
   "outputs": [],
   "source": [
    "df_training = pd.concat([df_regular, df_fraud], axis=0)"
   ]
  },
  {
   "cell_type": "code",
   "execution_count": 10,
   "metadata": {
    "ExecuteTime": {
     "end_time": "2018-06-08T14:55:46.340237Z",
     "start_time": "2018-06-08T14:55:45.951345Z"
    }
   },
   "outputs": [
    {
     "name": "stdout",
     "output_type": "stream",
     "text": [
      "Population per class: \n",
      "     0\n",
      "0  492\n",
      "1  492\n",
      "1.25 * Proportion Chance Criterion: 62.5%\n"
     ]
    },
    {
     "data": {
      "image/png": "[encoded data removed]",
      "text/plain": [
       "<matplotlib.figure.Figure at 0x7f8b2978f438>"
      ]
     },
     "metadata": {},
     "output_type": "display_data"
    }
   ],
   "source": [
    "# from collections import Counter\n",
    "state_counts = Counter(df_training['Class'])\n",
    "df_state = pd.DataFrame.from_dict(state_counts, orient='index')\n",
    "df_state.plot(kind='bar', legend=False)\n",
    "\n",
    "num=(df_state[0]/df_state[0].sum())**2\n",
    "print(\"Population per class: \\n{}\".format(df_state))\n",
    "print(\"1.25 * Proportion Chance Criterion: {}%\".format(1.25*100*num.sum()))"
   ]
  },
  {
   "cell_type": "markdown",
   "metadata": {},
   "source": [
    "The minimum accuracy a classifier must have for the classification is __62.5%__ for it to be considered significant."
   ]
  },
  {
   "cell_type": "code",
   "execution_count": 11,
   "metadata": {
    "ExecuteTime": {
     "end_time": "2018-06-08T14:55:46.373283Z",
     "start_time": "2018-06-08T14:55:46.349587Z"
    }
   },
   "outputs": [],
   "source": [
    "x = df_training.drop('Class', axis=1)\n",
    "y = df_training['Class']"
   ]
  },
  {
   "cell_type": "markdown",
   "metadata": {},
   "source": [
    "### Model Selection"
   ]
  },
  {
   "cell_type": "markdown",
   "metadata": {},
   "source": [
    "In this notebook, we will be implemention k Nearest Neighbor Classification to predict fraudulent credit card transactions."
   ]
  },
  {
   "cell_type": "code",
   "execution_count": 12,
   "metadata": {
    "ExecuteTime": {
     "end_time": "2018-06-08T14:55:46.444462Z",
     "start_time": "2018-06-08T14:55:46.383932Z"
    }
   },
   "outputs": [],
   "source": [
    "def reg_train(x, y, test_size, model, k_range, trials=100):\n",
    "    total_training = pd.DataFrame()\n",
    "    total_test = pd.DataFrame()\n",
    "    for seedN in np.arange(trials):\n",
    "        X_train, X_test, y_train, y_test = train_test_split(\n",
    "            x, y, test_size=test_size, random_state=seedN)\n",
    "        training_accuracy = []  \n",
    "        test_accuracy = []\n",
    "        \n",
    "        for k in k_range:\n",
    "#             instantiate model\n",
    "            reg = model(k) \n",
    "#             train the model\n",
    "            reg.fit(X_train, y_train) \n",
    "#             record training set accuracy  \n",
    "            training_accuracy.append(reg.score(X_train, y_train))\n",
    "#             record generalization accuracy    \n",
    "            test_accuracy.append(reg.score(X_test, y_test)) \n",
    "        \n",
    "        total_training[seedN]=training_accuracy\n",
    "        total_test[seedN] = test_accuracy\n",
    "    return total_training, total_test"
   ]
  },
  {
   "cell_type": "markdown",
   "metadata": {},
   "source": [
    "### Defining Functions\n",
    "We will be using namely reg_graph() to graph the mean training accuracy and test accuracy after _n_ trials of different random seeds."
   ]
  },
  {
   "cell_type": "code",
   "execution_count": 13,
   "metadata": {
    "ExecuteTime": {
     "end_time": "2018-06-08T14:55:46.492305Z",
     "start_time": "2018-06-08T14:55:46.452891Z"
    }
   },
   "outputs": [],
   "source": [
    "def reg_graph(train, test, k_range, ylabel=\"R-squared\", xlabel=\"n_neighbors\"):\n",
    "    fig = plt.figure(figsize=(15, 6))\n",
    "    params = {'legend.fontsize': 15, 'legend.handlelength': 2}\n",
    "    plot.rcParams.update(params)\n",
    "\n",
    "    plt.errorbar(k_range, train.mean(axis=1),\n",
    "                 yerr=train.std(axis=1), label=\"training accuracy\", \n",
    "                 color='blue', marker='o', linestyle='dashed', markersize=15)\n",
    "    plt.errorbar(k_range, test.mean(axis=1),\n",
    "                 yerr=test.std(axis=1), label=\"test accuracy\", \n",
    "                 color='red', marker='^', linestyle='-', markersize=15)\n",
    "    plt.ylabel(ylabel, fontsize=15)\n",
    "    plt.xlabel(xlabel, fontsize=15)\n",
    "    plt.legend()"
   ]
  },
  {
   "cell_type": "markdown",
   "metadata": {},
   "source": [
    "### Plot Results"
   ]
  },
  {
   "cell_type": "code",
   "execution_count": 14,
   "metadata": {
    "ExecuteTime": {
     "end_time": "2018-06-08T14:56:02.554384Z",
     "start_time": "2018-06-08T14:55:46.508591Z"
    }
   },
   "outputs": [
    {
     "data": {
      "image/png": "[encoded data removed]",
      "text/plain": [
       "<matplotlib.figure.Figure at 0x7f8b293dda90>"
      ]
     },
     "metadata": {},
     "output_type": "display_data"
    }
   ],
   "source": [
    "k_range = np.arange(1,30)\n",
    "train, test = reg_train(x, y, 0.25, KNeighborsClassifier, \n",
    "                        k_range, 50)\n",
    "reg_graph(train, test, k_range, ylabel='accuracy')"
   ]
  },
  {
   "cell_type": "code",
   "execution_count": 15,
   "metadata": {
    "ExecuteTime": {
     "end_time": "2018-06-08T14:56:02.581070Z",
     "start_time": "2018-06-08T14:56:02.564618Z"
    }
   },
   "outputs": [
    {
     "name": "stdout",
     "output_type": "stream",
     "text": [
      "Max accuracy = 0.661 at k = 5\n"
     ]
    }
   ],
   "source": [
    "print('Max accuracy = %.3f at k = %d' % (test.mean(axis=1).values.max(),\n",
    "      test.mean(axis=1).values.argmax()+1))"
   ]
  },
  {
   "cell_type": "markdown",
   "metadata": {},
   "source": [
    "Using all the features, the optimal n_neighbor is __1__ with test accuracy of __66%__."
   ]
  },
  {
   "cell_type": "markdown",
   "metadata": {},
   "source": [
    "### Feature Selection"
   ]
  },
  {
   "cell_type": "code",
   "execution_count": 16,
   "metadata": {
    "ExecuteTime": {
     "end_time": "2018-06-08T14:56:02.681513Z",
     "start_time": "2018-06-08T14:56:02.603442Z"
    }
   },
   "outputs": [],
   "source": [
    "def feature_add(x, y, test_size, model, k_range, trials, top_features=[]):\n",
    "    feature_accuracy = {}\n",
    "    for i in x.drop(top_features, axis=1).columns:\n",
    "        if len(top_features) == 0:\n",
    "            reduced = x[i].values.reshape(-1, 1)\n",
    "        else:\n",
    "            reduced = x[[i, *top_features]]\n",
    "\n",
    "        train, test = reg_train(reduced, y, test_size, KNeighborsClassifier, \n",
    "                        k_range, trials)\n",
    "        baseline = test.mean(axis=1).values.max()\n",
    "        k = test.mean(axis=1).values.argmax()+1\n",
    "        feature_accuracy[i] = [k, baseline]\n",
    "    return feature_accuracy"
   ]
  },
  {
   "cell_type": "code",
   "execution_count": 17,
   "metadata": {
    "ExecuteTime": {
     "end_time": "2018-06-08T14:56:02.729395Z",
     "start_time": "2018-06-08T14:56:02.686685Z"
    }
   },
   "outputs": [],
   "source": [
    "# incomplete\n",
    "def feature_add_recursive(x, y, test_size, model, k_range, trials, rounds):\n",
    "    curr_accuracy = 0\n",
    "    top_features = []\n",
    "    for i in np.arange(rounds):\n",
    "        feature_accuracy = feature_add(x, y, test_size, \n",
    "                                       model, k_range, trials, top_features)\n",
    "        features = list(feature_accuracy.keys())\n",
    "        accuracy = [x[1] for x in feature_accuracy.values()]\n",
    "        top_accuracy = np.max(accuracy)\n",
    "        \n",
    "        if top_accuracy <= curr_accuracy:\n",
    "            break\n",
    "        \n",
    "        top_feature = features[np.argmax(accuracy)]\n",
    "        top_features.append(top_feature)\n",
    "        curr_accuracy = top_accuracy\n",
    "        \n",
    "        print(top_features)\n",
    "        \n",
    "    return top_features, top_accuracy"
   ]
  },
  {
   "cell_type": "code",
   "execution_count": 18,
   "metadata": {
    "ExecuteTime": {
     "end_time": "2018-06-08T14:58:18.066189Z",
     "start_time": "2018-06-08T14:56:02.735061Z"
    }
   },
   "outputs": [
    {
     "name": "stdout",
     "output_type": "stream",
     "text": [
      "['V14']\n",
      "['V14', 'V4']\n",
      "['V14', 'V4', 'V23']\n"
     ]
    },
    {
     "data": {
      "text/plain": [
       "(['V14', 'V4', 'V23'], 0.9386178861788619)"
      ]
     },
     "execution_count": 18,
     "metadata": {},
     "output_type": "execute_result"
    }
   ],
   "source": [
    "feature_add_recursive(x, y, 0.25, KNeighborsClassifier, k_range, 10, 3)"
   ]
  },
  {
   "cell_type": "markdown",
   "metadata": {},
   "source": [
    "After iterating through each features, we found out that this combination of features (__V14__, __V4__, and __V12__) will yield to a higher test accuracy than selecting all available features."
   ]
  },
  {
   "cell_type": "code",
   "execution_count": 19,
   "metadata": {
    "ExecuteTime": {
     "end_time": "2018-06-08T14:58:18.077097Z",
     "start_time": "2018-06-08T14:58:18.070604Z"
    }
   },
   "outputs": [],
   "source": [
    "x_best = df_training[['V14', 'V4', 'V12']]"
   ]
  },
  {
   "cell_type": "markdown",
   "metadata": {},
   "source": [
    "### Plot Results"
   ]
  },
  {
   "cell_type": "code",
   "execution_count": 20,
   "metadata": {
    "ExecuteTime": {
     "end_time": "2018-06-08T14:58:26.811724Z",
     "start_time": "2018-06-08T14:58:18.081323Z"
    }
   },
   "outputs": [
    {
     "data": {
      "image/png": "[encoded data removed]",
      "text/plain": [
       "<matplotlib.figure.Figure at 0x7f8b292f0400>"
      ]
     },
     "metadata": {},
     "output_type": "display_data"
    }
   ],
   "source": [
    "k_range = np.arange(1,30)\n",
    "train, test = reg_train(x_best, y, 0.25, KNeighborsClassifier, \n",
    "                        k_range, 50)\n",
    "reg_graph(train, test, k_range, ylabel='accuracy')"
   ]
  },
  {
   "cell_type": "code",
   "execution_count": 21,
   "metadata": {
    "ExecuteTime": {
     "end_time": "2018-06-08T14:58:26.845680Z",
     "start_time": "2018-06-08T14:58:26.823371Z"
    }
   },
   "outputs": [
    {
     "name": "stdout",
     "output_type": "stream",
     "text": [
      "Max accuracy = 0.939 at k = 19\n"
     ]
    }
   ],
   "source": [
    "print('Max accuracy = %.3f at k = %d' % (test.mean(axis=1).values.max(),\n",
    "      test.mean(axis=1).values.argmax()+1))"
   ]
  },
  {
   "cell_type": "markdown",
   "metadata": {},
   "source": [
    "### Discussion\n",
    "By iterating through each features, we decided to use the following features for the model: __V14__, __V4__, and __V12__. The optimal number of neighbors is __17__ with test accuracy of __93.5%__. This means that by using this model, the prediction for fraudulent credit card transactions will be __93.5%__ accurate."
   ]
  },
  {
   "cell_type": "markdown",
   "metadata": {},
   "source": [
    "### Testing the model on the full dataset"
   ]
  },
  {
   "cell_type": "code",
   "execution_count": 22,
   "metadata": {
    "ExecuteTime": {
     "end_time": "2018-06-08T14:58:27.072786Z",
     "start_time": "2018-06-08T14:58:26.860119Z"
    }
   },
   "outputs": [],
   "source": [
    "df_regular = df_creditcard[df_creditcard['Class'] == 0].sample(n=492)\n",
    "df_fraud = df_creditcard[df_creditcard['Class'] == 1]\n",
    "df_training = pd.concat([df_regular, df_fraud], axis=0)"
   ]
  },
  {
   "cell_type": "code",
   "execution_count": 23,
   "metadata": {
    "ExecuteTime": {
     "end_time": "2018-06-08T14:58:27.423061Z",
     "start_time": "2018-06-08T14:58:27.078000Z"
    }
   },
   "outputs": [],
   "source": [
    "df_remaining = \\\n",
    "df_creditcard[df_creditcard['Class'] == 0].drop(df_regular.index)"
   ]
  },
  {
   "cell_type": "code",
   "execution_count": 24,
   "metadata": {
    "ExecuteTime": {
     "end_time": "2018-06-08T14:58:27.465996Z",
     "start_time": "2018-06-08T14:58:27.447451Z"
    }
   },
   "outputs": [],
   "source": [
    "x = df_training.drop('Class', axis=1)\n",
    "y = df_training['Class']"
   ]
  },
  {
   "cell_type": "code",
   "execution_count": 29,
   "metadata": {
    "ExecuteTime": {
     "end_time": "2018-06-08T15:02:06.371828Z",
     "start_time": "2018-06-08T15:01:53.967583Z"
    }
   },
   "outputs": [],
   "source": [
    "test_accuracy = []\n",
    "trials = 10\n",
    "for i in np.arange(trials):\n",
    "    X_train, X_test, y_train, y_test = train_test_split(\n",
    "        x, y, test_size=0.5, random_state=i)\n",
    "    X_test = pd.concat([X_test, df_remaining.drop('Class', axis=1)], axis=0)\n",
    "    y_test = pd.concat([y_test, df_remaining['Class']], axis=0)\n",
    "    \n",
    "    reg = KNeighborsClassifier(17)\n",
    "    reg.fit(X_train[['V14', 'V4', 'V12']], y_train)\n",
    "    test_accuracy.append(reg.score(X_test[['V14', 'V4', 'V12']], y_test))"
   ]
  },
  {
   "cell_type": "code",
   "execution_count": 30,
   "metadata": {
    "ExecuteTime": {
     "end_time": "2018-06-08T15:02:08.234620Z",
     "start_time": "2018-06-08T15:02:08.227669Z"
    }
   },
   "outputs": [
    {
     "data": {
      "text/plain": [
       "0.9805286390095492"
      ]
     },
     "execution_count": 30,
     "metadata": {},
     "output_type": "execute_result"
    }
   ],
   "source": [
    "np.mean(test_accuracy)"
   ]
  },
  {
   "cell_type": "markdown",
   "metadata": {},
   "source": [
    "Testing the model on the whole dataset gives around **99.1%** accuracy. However, since the complete data contains only **0.17%** fraudulent transactions, majority of the **0.9%** error must be due to false positives."
   ]
  },
  {
   "cell_type": "markdown",
   "metadata": {},
   "source": [
    "### References\n",
    "Credit Card Fraud Detection | Kaggle. (2018). Kaggle.com"
   ]
  }
 ],
 "metadata": {
  "kernelspec": {
   "display_name": "Python 3",
   "language": "python",
   "name": "python3"
  },
  "language_info": {
   "codemirror_mode": {
    "name": "ipython",
    "version": 3
   },
   "file_extension": ".py",
   "mimetype": "text/x-python",
   "name": "python",
   "nbconvert_exporter": "python",
   "pygments_lexer": "ipython3",
   "version": "3.7.3"
  },
  "varInspector": {
   "cols": {
    "lenName": 16,
    "lenType": 16,
    "lenVar": 40
   },
   "kernels_config": {
    "python": {
     "delete_cmd_postfix": "",
     "delete_cmd_prefix": "del ",
     "library": "var_list.py",
     "varRefreshCmd": "print(var_dic_list())"
    },
    "r": {
     "delete_cmd_postfix": ") ",
     "delete_cmd_prefix": "rm(",
     "library": "var_list.r",
     "varRefreshCmd": "cat(var_dic_list()) "
    }
   },
   "types_to_exclude": [
    "module",
    "function",
    "builtin_function_or_method",
    "instance",
    "_Feature"
   ],
   "window_display": false
  }
 },
 "nbformat": 4,
 "nbformat_minor": 2
}
